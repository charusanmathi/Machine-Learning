{
 "cells": [
  {
   "cell_type": "code",
   "execution_count": 1,
   "id": "8625f917",
   "metadata": {},
   "outputs": [],
   "source": [
    "import numpy as np\n",
    "import pandas as pd\n",
    "import matplotlib.pyplot as plt\n",
    "import seaborn as sns\n"
   ]
  },
  {
   "cell_type": "code",
   "execution_count": 2,
   "id": "beae458f",
   "metadata": {},
   "outputs": [],
   "source": [
    "df = pd.read_csv('census-income .csv')"
   ]
  },
  {
   "cell_type": "code",
   "execution_count": 3,
   "id": "80b3dedd",
   "metadata": {},
   "outputs": [
    {
     "data": {
      "text/html": [
       "<div>\n",
       "<style scoped>\n",
       "    .dataframe tbody tr th:only-of-type {\n",
       "        vertical-align: middle;\n",
       "    }\n",
       "\n",
       "    .dataframe tbody tr th {\n",
       "        vertical-align: top;\n",
       "    }\n",
       "\n",
       "    .dataframe thead th {\n",
       "        text-align: right;\n",
       "    }\n",
       "</style>\n",
       "<table border=\"1\" class=\"dataframe\">\n",
       "  <thead>\n",
       "    <tr style=\"text-align: right;\">\n",
       "      <th></th>\n",
       "      <th>age</th>\n",
       "      <th>workclass</th>\n",
       "      <th>fnlwgt</th>\n",
       "      <th>education</th>\n",
       "      <th>education-num</th>\n",
       "      <th>marital-status</th>\n",
       "      <th>occupation</th>\n",
       "      <th>relationship</th>\n",
       "      <th>race</th>\n",
       "      <th>sex</th>\n",
       "      <th>capital-gain</th>\n",
       "      <th>capital-loss</th>\n",
       "      <th>hours-per-week</th>\n",
       "      <th>native-country</th>\n",
       "      <th>annual_income</th>\n",
       "    </tr>\n",
       "  </thead>\n",
       "  <tbody>\n",
       "    <tr>\n",
       "      <th>0</th>\n",
       "      <td>39</td>\n",
       "      <td>State-gov</td>\n",
       "      <td>77516</td>\n",
       "      <td>Bachelors</td>\n",
       "      <td>13</td>\n",
       "      <td>Never-married</td>\n",
       "      <td>Adm-clerical</td>\n",
       "      <td>Not-in-family</td>\n",
       "      <td>White</td>\n",
       "      <td>Male</td>\n",
       "      <td>2174</td>\n",
       "      <td>0</td>\n",
       "      <td>40</td>\n",
       "      <td>United-States</td>\n",
       "      <td>&lt;=50K</td>\n",
       "    </tr>\n",
       "    <tr>\n",
       "      <th>1</th>\n",
       "      <td>50</td>\n",
       "      <td>Self-emp-not-inc</td>\n",
       "      <td>83311</td>\n",
       "      <td>Bachelors</td>\n",
       "      <td>13</td>\n",
       "      <td>Married-civ-spouse</td>\n",
       "      <td>Exec-managerial</td>\n",
       "      <td>Husband</td>\n",
       "      <td>White</td>\n",
       "      <td>Male</td>\n",
       "      <td>0</td>\n",
       "      <td>0</td>\n",
       "      <td>13</td>\n",
       "      <td>United-States</td>\n",
       "      <td>&lt;=50K</td>\n",
       "    </tr>\n",
       "    <tr>\n",
       "      <th>2</th>\n",
       "      <td>38</td>\n",
       "      <td>Private</td>\n",
       "      <td>215646</td>\n",
       "      <td>HS-grad</td>\n",
       "      <td>9</td>\n",
       "      <td>Divorced</td>\n",
       "      <td>Handlers-cleaners</td>\n",
       "      <td>Not-in-family</td>\n",
       "      <td>White</td>\n",
       "      <td>Male</td>\n",
       "      <td>0</td>\n",
       "      <td>0</td>\n",
       "      <td>40</td>\n",
       "      <td>United-States</td>\n",
       "      <td>&lt;=50K</td>\n",
       "    </tr>\n",
       "    <tr>\n",
       "      <th>3</th>\n",
       "      <td>53</td>\n",
       "      <td>Private</td>\n",
       "      <td>234721</td>\n",
       "      <td>11th</td>\n",
       "      <td>7</td>\n",
       "      <td>Married-civ-spouse</td>\n",
       "      <td>Handlers-cleaners</td>\n",
       "      <td>Husband</td>\n",
       "      <td>Black</td>\n",
       "      <td>Male</td>\n",
       "      <td>0</td>\n",
       "      <td>0</td>\n",
       "      <td>40</td>\n",
       "      <td>United-States</td>\n",
       "      <td>&lt;=50K</td>\n",
       "    </tr>\n",
       "    <tr>\n",
       "      <th>4</th>\n",
       "      <td>28</td>\n",
       "      <td>Private</td>\n",
       "      <td>338409</td>\n",
       "      <td>Bachelors</td>\n",
       "      <td>13</td>\n",
       "      <td>Married-civ-spouse</td>\n",
       "      <td>Prof-specialty</td>\n",
       "      <td>Wife</td>\n",
       "      <td>Black</td>\n",
       "      <td>Female</td>\n",
       "      <td>0</td>\n",
       "      <td>0</td>\n",
       "      <td>40</td>\n",
       "      <td>Cuba</td>\n",
       "      <td>&lt;=50K</td>\n",
       "    </tr>\n",
       "  </tbody>\n",
       "</table>\n",
       "</div>"
      ],
      "text/plain": [
       "   age         workclass  fnlwgt  education  education-num  \\\n",
       "0   39         State-gov   77516  Bachelors             13   \n",
       "1   50  Self-emp-not-inc   83311  Bachelors             13   \n",
       "2   38           Private  215646    HS-grad              9   \n",
       "3   53           Private  234721       11th              7   \n",
       "4   28           Private  338409  Bachelors             13   \n",
       "\n",
       "       marital-status         occupation   relationship   race     sex  \\\n",
       "0       Never-married       Adm-clerical  Not-in-family  White    Male   \n",
       "1  Married-civ-spouse    Exec-managerial        Husband  White    Male   \n",
       "2            Divorced  Handlers-cleaners  Not-in-family  White    Male   \n",
       "3  Married-civ-spouse  Handlers-cleaners        Husband  Black    Male   \n",
       "4  Married-civ-spouse     Prof-specialty           Wife  Black  Female   \n",
       "\n",
       "   capital-gain  capital-loss  hours-per-week native-country annual_income  \n",
       "0          2174             0              40  United-States         <=50K  \n",
       "1             0             0              13  United-States         <=50K  \n",
       "2             0             0              40  United-States         <=50K  \n",
       "3             0             0              40  United-States         <=50K  \n",
       "4             0             0              40           Cuba         <=50K  "
      ]
     },
     "execution_count": 3,
     "metadata": {},
     "output_type": "execute_result"
    }
   ],
   "source": [
    "df.head()"
   ]
  },
  {
   "cell_type": "code",
   "execution_count": 4,
   "id": "ce09c30c",
   "metadata": {},
   "outputs": [
    {
     "data": {
      "text/plain": [
       "(32561, 15)"
      ]
     },
     "execution_count": 4,
     "metadata": {},
     "output_type": "execute_result"
    }
   ],
   "source": [
    "df.shape"
   ]
  },
  {
   "cell_type": "code",
   "execution_count": 5,
   "id": "3de9b549",
   "metadata": {},
   "outputs": [
    {
     "name": "stdout",
     "output_type": "stream",
     "text": [
      "<class 'pandas.core.frame.DataFrame'>\n",
      "RangeIndex: 32561 entries, 0 to 32560\n",
      "Data columns (total 15 columns):\n",
      " #   Column          Non-Null Count  Dtype \n",
      "---  ------          --------------  ----- \n",
      " 0   age             32561 non-null  int64 \n",
      " 1   workclass       32561 non-null  object\n",
      " 2   fnlwgt          32561 non-null  int64 \n",
      " 3   education       32561 non-null  object\n",
      " 4   education-num   32561 non-null  int64 \n",
      " 5   marital-status  32561 non-null  object\n",
      " 6   occupation      32561 non-null  object\n",
      " 7   relationship    32561 non-null  object\n",
      " 8   race            32561 non-null  object\n",
      " 9   sex             32561 non-null  object\n",
      " 10  capital-gain    32561 non-null  int64 \n",
      " 11  capital-loss    32561 non-null  int64 \n",
      " 12  hours-per-week  32561 non-null  int64 \n",
      " 13  native-country  32561 non-null  object\n",
      " 14  annual_income   32561 non-null  object\n",
      "dtypes: int64(6), object(9)\n",
      "memory usage: 3.7+ MB\n"
     ]
    }
   ],
   "source": [
    "df.info()"
   ]
  },
  {
   "cell_type": "code",
   "execution_count": 6,
   "id": "c31bb6c1",
   "metadata": {},
   "outputs": [],
   "source": [
    "# Observations: \n",
    "    \n",
    "# 1. workclass,  education ,marital-status, occupation ,relationship ,race, sex,native-country are all object columns\n",
    "# 2. There are no null values in the dataset\n",
    "# 3. Age, Fnlwgt, eductaion-num, capital-gain, capital-loss , hours-per-week are all integer columns\n",
    "# 4. No float values\n",
    "# 5. On carefull consideration of the raw data, there are some values that have a special character ? \n",
    "# 6. We will need to replace the special character\n"
   ]
  },
  {
   "cell_type": "code",
   "execution_count": 7,
   "id": "a049a58e",
   "metadata": {},
   "outputs": [
    {
     "data": {
      "text/html": [
       "<div>\n",
       "<style scoped>\n",
       "    .dataframe tbody tr th:only-of-type {\n",
       "        vertical-align: middle;\n",
       "    }\n",
       "\n",
       "    .dataframe tbody tr th {\n",
       "        vertical-align: top;\n",
       "    }\n",
       "\n",
       "    .dataframe thead th {\n",
       "        text-align: right;\n",
       "    }\n",
       "</style>\n",
       "<table border=\"1\" class=\"dataframe\">\n",
       "  <thead>\n",
       "    <tr style=\"text-align: right;\">\n",
       "      <th></th>\n",
       "      <th>count</th>\n",
       "      <th>mean</th>\n",
       "      <th>std</th>\n",
       "      <th>min</th>\n",
       "      <th>25%</th>\n",
       "      <th>50%</th>\n",
       "      <th>75%</th>\n",
       "      <th>max</th>\n",
       "    </tr>\n",
       "  </thead>\n",
       "  <tbody>\n",
       "    <tr>\n",
       "      <th>age</th>\n",
       "      <td>32561.0</td>\n",
       "      <td>38.581647</td>\n",
       "      <td>13.640433</td>\n",
       "      <td>17.0</td>\n",
       "      <td>28.0</td>\n",
       "      <td>37.0</td>\n",
       "      <td>48.0</td>\n",
       "      <td>90.0</td>\n",
       "    </tr>\n",
       "    <tr>\n",
       "      <th>fnlwgt</th>\n",
       "      <td>32561.0</td>\n",
       "      <td>189778.366512</td>\n",
       "      <td>105549.977697</td>\n",
       "      <td>12285.0</td>\n",
       "      <td>117827.0</td>\n",
       "      <td>178356.0</td>\n",
       "      <td>237051.0</td>\n",
       "      <td>1484705.0</td>\n",
       "    </tr>\n",
       "    <tr>\n",
       "      <th>education-num</th>\n",
       "      <td>32561.0</td>\n",
       "      <td>10.080679</td>\n",
       "      <td>2.572720</td>\n",
       "      <td>1.0</td>\n",
       "      <td>9.0</td>\n",
       "      <td>10.0</td>\n",
       "      <td>12.0</td>\n",
       "      <td>16.0</td>\n",
       "    </tr>\n",
       "    <tr>\n",
       "      <th>capital-gain</th>\n",
       "      <td>32561.0</td>\n",
       "      <td>1077.648844</td>\n",
       "      <td>7385.292085</td>\n",
       "      <td>0.0</td>\n",
       "      <td>0.0</td>\n",
       "      <td>0.0</td>\n",
       "      <td>0.0</td>\n",
       "      <td>99999.0</td>\n",
       "    </tr>\n",
       "    <tr>\n",
       "      <th>capital-loss</th>\n",
       "      <td>32561.0</td>\n",
       "      <td>87.303830</td>\n",
       "      <td>402.960219</td>\n",
       "      <td>0.0</td>\n",
       "      <td>0.0</td>\n",
       "      <td>0.0</td>\n",
       "      <td>0.0</td>\n",
       "      <td>4356.0</td>\n",
       "    </tr>\n",
       "    <tr>\n",
       "      <th>hours-per-week</th>\n",
       "      <td>32561.0</td>\n",
       "      <td>40.437456</td>\n",
       "      <td>12.347429</td>\n",
       "      <td>1.0</td>\n",
       "      <td>40.0</td>\n",
       "      <td>40.0</td>\n",
       "      <td>45.0</td>\n",
       "      <td>99.0</td>\n",
       "    </tr>\n",
       "  </tbody>\n",
       "</table>\n",
       "</div>"
      ],
      "text/plain": [
       "                  count           mean            std      min       25%  \\\n",
       "age             32561.0      38.581647      13.640433     17.0      28.0   \n",
       "fnlwgt          32561.0  189778.366512  105549.977697  12285.0  117827.0   \n",
       "education-num   32561.0      10.080679       2.572720      1.0       9.0   \n",
       "capital-gain    32561.0    1077.648844    7385.292085      0.0       0.0   \n",
       "capital-loss    32561.0      87.303830     402.960219      0.0       0.0   \n",
       "hours-per-week  32561.0      40.437456      12.347429      1.0      40.0   \n",
       "\n",
       "                     50%       75%        max  \n",
       "age                 37.0      48.0       90.0  \n",
       "fnlwgt          178356.0  237051.0  1484705.0  \n",
       "education-num       10.0      12.0       16.0  \n",
       "capital-gain         0.0       0.0    99999.0  \n",
       "capital-loss         0.0       0.0     4356.0  \n",
       "hours-per-week      40.0      45.0       99.0  "
      ]
     },
     "execution_count": 7,
     "metadata": {},
     "output_type": "execute_result"
    }
   ],
   "source": [
    "df.describe().T"
   ]
  },
  {
   "cell_type": "markdown",
   "id": "56741eae",
   "metadata": {},
   "source": [
    "# EXPLORATORY DATA ANALYSIS"
   ]
  },
  {
   "cell_type": "code",
   "execution_count": 8,
   "id": "41038c6b",
   "metadata": {},
   "outputs": [
    {
     "name": "stdout",
     "output_type": "stream",
     "text": [
      "Unique values for age: [39 50 38 53 28 37 49 52 31 42 30 23 32 40 34 25 43 54 35 59 56 19 20 45\n",
      " 22 48 21 24 57 44 41 29 18 47 46 36 79 27 67 33 76 17 55 61 70 64 71 68\n",
      " 66 51 58 26 60 90 75 65 77 62 63 80 72 74 69 73 81 78 88 82 83 84 85 86\n",
      " 87]\n",
      "\n",
      "Unique values for workclass: ['State-gov' 'Self-emp-not-inc' 'Private' 'Federal-gov' 'Local-gov' '?'\n",
      " 'Self-emp-inc' 'Without-pay' 'Never-worked']\n",
      "\n",
      "Unique values for fnlwgt: [ 77516  83311 215646 ...  34066  84661 257302]\n",
      "\n",
      "Unique values for education: ['Bachelors' 'HS-grad' '11th' 'Masters' '9th' 'Some-college' 'Assoc-acdm'\n",
      " 'Assoc-voc' '7th-8th' 'Doctorate' 'Prof-school' '5th-6th' '10th'\n",
      " '1st-4th' 'Preschool' '12th']\n",
      "\n",
      "Unique values for education-num: [13  9  7 14  5 10 12 11  4 16 15  3  6  2  1  8]\n",
      "\n",
      "Unique values for marital-status: ['Never-married' 'Married-civ-spouse' 'Divorced' 'Married-spouse-absent'\n",
      " 'Separated' 'Married-AF-spouse' 'Widowed']\n",
      "\n",
      "Unique values for occupation: ['Adm-clerical' 'Exec-managerial' 'Handlers-cleaners' 'Prof-specialty'\n",
      " 'Other-service' 'Sales' 'Craft-repair' 'Transport-moving'\n",
      " 'Farming-fishing' 'Machine-op-inspct' 'Tech-support' '?'\n",
      " 'Protective-serv' 'Armed-Forces' 'Priv-house-serv']\n",
      "\n",
      "Unique values for relationship: ['Not-in-family' 'Husband' 'Wife' 'Own-child' 'Unmarried' 'Other-relative']\n",
      "\n",
      "Unique values for race: ['White' 'Black' 'Asian-Pac-Islander' 'Amer-Indian-Eskimo' 'Other']\n",
      "\n",
      "Unique values for sex: ['Male' 'Female']\n",
      "\n",
      "Unique values for capital-gain: [ 2174     0 14084  5178  5013  2407 14344 15024  7688 34095  4064  4386\n",
      "  7298  1409  3674  1055  3464  2050  2176   594 20051  6849  4101  1111\n",
      "  8614  3411  2597 25236  4650  9386  2463  3103 10605  2964  3325  2580\n",
      "  3471  4865 99999  6514  1471  2329  2105  2885 25124 10520  2202  2961\n",
      " 27828  6767  2228  1506 13550  2635  5556  4787  3781  3137  3818  3942\n",
      "   914   401  2829  2977  4934  2062  2354  5455 15020  1424  3273 22040\n",
      "  4416  3908 10566   991  4931  1086  7430  6497   114  7896  2346  3418\n",
      "  3432  2907  1151  2414  2290 15831 41310  4508  2538  3456  6418  1848\n",
      "  3887  5721  9562  1455  2036  1831 11678  2936  2993  7443  6360  1797\n",
      "  1173  4687  6723  2009  6097  2653  1639 18481  7978  2387  5060]\n",
      "\n",
      "Unique values for capital-loss: [   0 2042 1408 1902 1573 1887 1719 1762 1564 2179 1816 1980 1977 1876\n",
      " 1340 2206 1741 1485 2339 2415 1380 1721 2051 2377 1669 2352 1672  653\n",
      " 2392 1504 2001 1590 1651 1628 1848 1740 2002 1579 2258 1602  419 2547\n",
      " 2174 2205 1726 2444 1138 2238  625  213 1539  880 1668 1092 1594 3004\n",
      " 2231 1844  810 2824 2559 2057 1974  974 2149 1825 1735 1258 2129 2603\n",
      " 2282  323 4356 2246 1617 1648 2489 3770 1755 3683 2267 2080 2457  155\n",
      " 3900 2201 1944 2467 2163 2754 2472 1411]\n",
      "\n",
      "Unique values for hours-per-week: [40 13 16 45 50 80 30 35 60 20 52 44 15 25 38 43 55 48 58 32 70  2 22 56\n",
      " 41 28 36 24 46 42 12 65  1 10 34 75 98 33 54  8  6 64 19 18 72  5  9 47\n",
      " 37 21 26 14  4 59  7 99 53 39 62 57 78 90 66 11 49 84  3 17 68 27 85 31\n",
      " 51 77 63 23 87 88 73 89 97 94 29 96 67 82 86 91 81 76 92 61 74 95]\n",
      "\n",
      "Unique values for native-country: ['United-States' 'Cuba' 'Jamaica' 'India' '?' 'Mexico' 'South'\n",
      " 'Puerto-Rico' 'Honduras' 'England' 'Canada' 'Germany' 'Iran'\n",
      " 'Philippines' 'Italy' 'Poland' 'Columbia' 'Cambodia' 'Thailand' 'Ecuador'\n",
      " 'Laos' 'Taiwan' 'Haiti' 'Portugal' 'Dominican-Republic' 'El-Salvador'\n",
      " 'France' 'Guatemala' 'China' 'Japan' 'Yugoslavia' 'Peru'\n",
      " 'Outlying-US(Guam-USVI-etc)' 'Scotland' 'Trinadad&Tobago' 'Greece'\n",
      " 'Nicaragua' 'Vietnam' 'Hong' 'Ireland' 'Hungary' 'Holand-Netherlands']\n",
      "\n",
      "Unique values for annual_income: ['<=50K' '>50K']\n",
      "\n"
     ]
    }
   ],
   "source": [
    "# Checking for special characters - ?\n",
    "\n",
    "for column in df.columns:\n",
    "    unique_values = df[column].unique()\n",
    "    print(f'Unique values for {column}: {unique_values}')\n",
    "    print()"
   ]
  },
  {
   "cell_type": "code",
   "execution_count": 9,
   "id": "95cd3abf",
   "metadata": {},
   "outputs": [
    {
     "data": {
      "text/plain": [
       "age                  0\n",
       "workclass         1836\n",
       "fnlwgt               0\n",
       "education            0\n",
       "education-num        0\n",
       "marital-status       0\n",
       "occupation        1843\n",
       "relationship         0\n",
       "race                 0\n",
       "sex                  0\n",
       "capital-gain         0\n",
       "capital-loss         0\n",
       "hours-per-week       0\n",
       "native-country     583\n",
       "annual_income        0\n",
       "dtype: int64"
      ]
     },
     "execution_count": 9,
     "metadata": {},
     "output_type": "execute_result"
    }
   ],
   "source": [
    "# Counting the number of '?' in the dataset\n",
    "\n",
    "df[df == '?'].count()\n",
    "\n"
   ]
  },
  {
   "cell_type": "code",
   "execution_count": 10,
   "id": "5819af69",
   "metadata": {},
   "outputs": [
    {
     "data": {
      "text/plain": [
       "age               0.0\n",
       "workclass         0.0\n",
       "fnlwgt            0.0\n",
       "education         0.0\n",
       "education-num     0.0\n",
       "marital-status    0.0\n",
       "occupation        0.0\n",
       "relationship      0.0\n",
       "race              0.0\n",
       "sex               0.0\n",
       "capital-gain      0.0\n",
       "capital-loss      0.0\n",
       "hours-per-week    0.0\n",
       "native-country    0.0\n",
       "annual_income     0.0\n",
       "dtype: float64"
      ]
     },
     "execution_count": 10,
     "metadata": {},
     "output_type": "execute_result"
    }
   ],
   "source": [
    "# Checking for percentage of null values\n",
    "\n",
    "round(df.isnull().sum() / len(df) *100,  2)"
   ]
  },
  {
   "cell_type": "code",
   "execution_count": 11,
   "id": "30df6547",
   "metadata": {},
   "outputs": [],
   "source": [
    "# Replace the special character by nan\n",
    "\n",
    "df = df.replace('?', np.nan)"
   ]
  },
  {
   "cell_type": "code",
   "execution_count": 12,
   "id": "ca9c0b45",
   "metadata": {},
   "outputs": [
    {
     "name": "stdout",
     "output_type": "stream",
     "text": [
      "<class 'pandas.core.frame.DataFrame'>\n",
      "RangeIndex: 32561 entries, 0 to 32560\n",
      "Data columns (total 15 columns):\n",
      " #   Column          Non-Null Count  Dtype \n",
      "---  ------          --------------  ----- \n",
      " 0   age             32561 non-null  int64 \n",
      " 1   workclass       30725 non-null  object\n",
      " 2   fnlwgt          32561 non-null  int64 \n",
      " 3   education       32561 non-null  object\n",
      " 4   education-num   32561 non-null  int64 \n",
      " 5   marital-status  32561 non-null  object\n",
      " 6   occupation      30718 non-null  object\n",
      " 7   relationship    32561 non-null  object\n",
      " 8   race            32561 non-null  object\n",
      " 9   sex             32561 non-null  object\n",
      " 10  capital-gain    32561 non-null  int64 \n",
      " 11  capital-loss    32561 non-null  int64 \n",
      " 12  hours-per-week  32561 non-null  int64 \n",
      " 13  native-country  31978 non-null  object\n",
      " 14  annual_income   32561 non-null  object\n",
      "dtypes: int64(6), object(9)\n",
      "memory usage: 3.7+ MB\n"
     ]
    }
   ],
   "source": [
    "# Checking for null values\n",
    "\n",
    "df.info()"
   ]
  },
  {
   "cell_type": "code",
   "execution_count": 13,
   "id": "4ccf4f5c",
   "metadata": {},
   "outputs": [
    {
     "data": {
      "text/plain": [
       "age                  0\n",
       "workclass         1836\n",
       "fnlwgt               0\n",
       "education            0\n",
       "education-num        0\n",
       "marital-status       0\n",
       "occupation        1843\n",
       "relationship         0\n",
       "race                 0\n",
       "sex                  0\n",
       "capital-gain         0\n",
       "capital-loss         0\n",
       "hours-per-week       0\n",
       "native-country     583\n",
       "annual_income        0\n",
       "dtype: int64"
      ]
     },
     "execution_count": 13,
     "metadata": {},
     "output_type": "execute_result"
    }
   ],
   "source": [
    "# Checking for null values\n",
    "\n",
    "df.isnull().sum()\n",
    "\n",
    "# Successfully converted all the special characters into null "
   ]
  },
  {
   "cell_type": "code",
   "execution_count": null,
   "id": "37189ca5",
   "metadata": {},
   "outputs": [],
   "source": []
  },
  {
   "cell_type": "code",
   "execution_count": 14,
   "id": "e805bc4e",
   "metadata": {},
   "outputs": [],
   "source": [
    "# # OBSERVATIONS\n",
    "\n",
    "# 1. We can observe null values in workclass (1836), occupation(1843) and native-country(583) column\n",
    "# 2. All three are object data types\n",
    "# 3. We can therefore handle the object data type column null values with MODE"
   ]
  },
  {
   "cell_type": "code",
   "execution_count": 15,
   "id": "b515701c",
   "metadata": {},
   "outputs": [],
   "source": [
    "# REPLACING NULL VALUES WITH MODE\n",
    "\n",
    "# Creating a list of the columns with null values\n",
    "\n",
    "cols = ['workclass','occupation', 'native-country']\n",
    "\n",
    "# Filling the null values with mode and using the first mode by iloc[0] as there could be multiple modes\n",
    "\n",
    "df[cols]=df[cols].fillna(df.mode().iloc[0])"
   ]
  },
  {
   "cell_type": "code",
   "execution_count": 16,
   "id": "d3c2d229",
   "metadata": {},
   "outputs": [
    {
     "data": {
      "text/plain": [
       "age               0\n",
       "workclass         0\n",
       "fnlwgt            0\n",
       "education         0\n",
       "education-num     0\n",
       "marital-status    0\n",
       "occupation        0\n",
       "relationship      0\n",
       "race              0\n",
       "sex               0\n",
       "capital-gain      0\n",
       "capital-loss      0\n",
       "hours-per-week    0\n",
       "native-country    0\n",
       "annual_income     0\n",
       "dtype: int64"
      ]
     },
     "execution_count": 16,
     "metadata": {},
     "output_type": "execute_result"
    }
   ],
   "source": [
    "# Checking for the null values again to confirm the replacement\n",
    "\n",
    "df.isnull().sum()\n",
    "\n",
    "# OBSERVATIONS:\n",
    "    \n",
    "# All null values have been replaced with the mode"
   ]
  },
  {
   "cell_type": "code",
   "execution_count": 17,
   "id": "f0c4aeb0",
   "metadata": {},
   "outputs": [
    {
     "data": {
      "text/plain": [
       "24"
      ]
     },
     "execution_count": 17,
     "metadata": {},
     "output_type": "execute_result"
    }
   ],
   "source": [
    "# CHECKING FOR DUPLICATES\n",
    "\n",
    "df.duplicated().sum()\n",
    "\n",
    "# OBSERVATIONS:\n",
    "    \n",
    "# 1. 24 duplicate values have been found in the dataframe\n",
    "# 2. Since the number of duplicates are 0.0737% we can drop the duplicates"
   ]
  },
  {
   "cell_type": "code",
   "execution_count": 18,
   "id": "08a69931",
   "metadata": {},
   "outputs": [
    {
     "data": {
      "text/plain": [
       "0.07370780995669667"
      ]
     },
     "execution_count": 18,
     "metadata": {},
     "output_type": "execute_result"
    }
   ],
   "source": [
    "# Finding the percent of duplicates\n",
    "\n",
    "# Formula : (Number of duplicates/Total number of rows)*100\n",
    "\n",
    "(24/32561)*100"
   ]
  },
  {
   "cell_type": "code",
   "execution_count": 19,
   "id": "c9b7bf34",
   "metadata": {},
   "outputs": [],
   "source": [
    "# Dropping duplicates\n",
    "\n",
    "df.drop_duplicates(keep = \"first\", inplace = True)"
   ]
  },
  {
   "cell_type": "code",
   "execution_count": 20,
   "id": "195b7338",
   "metadata": {},
   "outputs": [
    {
     "data": {
      "text/plain": [
       "0"
      ]
     },
     "execution_count": 20,
     "metadata": {},
     "output_type": "execute_result"
    }
   ],
   "source": [
    "# CHECKING FOR DUPLICATES\n",
    "\n",
    "df.duplicated().sum()\n",
    "\n",
    "# OBSERVATIONS:\n",
    "    \n",
    "# 1. 24 duplicate values have been found in the dataframe\n",
    "# 2. Since the number of duplicates are 0.0737% we can drop the duplicates"
   ]
  },
  {
   "cell_type": "code",
   "execution_count": 21,
   "id": "8683d465",
   "metadata": {},
   "outputs": [
    {
     "data": {
      "image/png": "[encoded data removed]",
      "text/plain": [
       "<Figure size 640x480 with 1 Axes>"
      ]
     },
     "metadata": {},
     "output_type": "display_data"
    },
    {
     "data": {
      "image/png": "[encoded data removed]",
      "text/plain": [
       "<Figure size 640x480 with 1 Axes>"
      ]
     },
     "metadata": {},
     "output_type": "display_data"
    },
    {
     "data": {
      "image/png": "[encoded data removed]",
      "text/plain": [
       "<Figure size 640x480 with 1 Axes>"
      ]
     },
     "metadata": {},
     "output_type": "display_data"
    },
    {
     "data": {
      "image/png": "[encoded data removed]",
      "text/plain": [
       "<Figure size 640x480 with 1 Axes>"
      ]
     },
     "metadata": {},
     "output_type": "display_data"
    },
    {
     "data": {
      "image/png": "[encoded data removed]",
      "text/plain": [
       "<Figure size 640x480 with 1 Axes>"
      ]
     },
     "metadata": {},
     "output_type": "display_data"
    },
    {
     "data": {
      "image/png": "[encoded data removed]",
      "text/plain": [
       "<Figure size 640x480 with 1 Axes>"
      ]
     },
     "metadata": {},
     "output_type": "display_data"
    }
   ],
   "source": [
    "# CHECKING FOR OUTLIERS\n",
    "\n",
    "for col in df.columns:\n",
    "    if df[col].dtype != 'object':\n",
    "        plt.boxplot(df[col])\n",
    "        plt.xlabel(col)\n",
    "        plt.show()\n"
   ]
  },
  {
   "cell_type": "code",
   "execution_count": 22,
   "id": "efb55d15",
   "metadata": {},
   "outputs": [],
   "source": [
    "# OBSERVATIONS:\n",
    "    \n",
    "#     1. There are a lot of outliers in the numerical columns\n",
    "#     2. Its important to visualise the columns first to understand the importance of features \n",
    "#        and then decide if the outliers can be retained or dropped"
   ]
  },
  {
   "cell_type": "markdown",
   "id": "f1131126",
   "metadata": {},
   "source": [
    "# DATA VISUALISATION"
   ]
  },
  {
   "cell_type": "code",
   "execution_count": 23,
   "id": "79554ed0",
   "metadata": {},
   "outputs": [
    {
     "name": "stdout",
     "output_type": "stream",
     "text": [
      "<class 'pandas.core.frame.DataFrame'>\n",
      "Int64Index: 32537 entries, 0 to 32560\n",
      "Data columns (total 15 columns):\n",
      " #   Column          Non-Null Count  Dtype \n",
      "---  ------          --------------  ----- \n",
      " 0   age             32537 non-null  int64 \n",
      " 1   workclass       32537 non-null  object\n",
      " 2   fnlwgt          32537 non-null  int64 \n",
      " 3   education       32537 non-null  object\n",
      " 4   education-num   32537 non-null  int64 \n",
      " 5   marital-status  32537 non-null  object\n",
      " 6   occupation      32537 non-null  object\n",
      " 7   relationship    32537 non-null  object\n",
      " 8   race            32537 non-null  object\n",
      " 9   sex             32537 non-null  object\n",
      " 10  capital-gain    32537 non-null  int64 \n",
      " 11  capital-loss    32537 non-null  int64 \n",
      " 12  hours-per-week  32537 non-null  int64 \n",
      " 13  native-country  32537 non-null  object\n",
      " 14  annual_income   32537 non-null  object\n",
      "dtypes: int64(6), object(9)\n",
      "memory usage: 4.0+ MB\n"
     ]
    }
   ],
   "source": [
    "df.info()"
   ]
  },
  {
   "cell_type": "code",
   "execution_count": 24,
   "id": "82c05eed",
   "metadata": {},
   "outputs": [
    {
     "data": {
      "text/plain": [
       "['age',\n",
       " 'fnlwgt',\n",
       " 'education-num',\n",
       " 'capital-gain',\n",
       " 'capital-loss',\n",
       " 'hours-per-week']"
      ]
     },
     "execution_count": 24,
     "metadata": {},
     "output_type": "execute_result"
    }
   ],
   "source": [
    "# SEPARATION OF NUMERIC AND CATEGORICAL FEATURE COLUMNS\n",
    "\n",
    "num_features = []\n",
    "\n",
    "for i in df.columns:\n",
    "    if df[i].dtype != 'object':\n",
    "        num_features.append(i)\n",
    "        \n",
    "num_features"
   ]
  },
  {
   "cell_type": "code",
   "execution_count": 25,
   "id": "f6758855",
   "metadata": {},
   "outputs": [
    {
     "data": {
      "text/plain": [
       "['workclass',\n",
       " 'education',\n",
       " 'marital-status',\n",
       " 'occupation',\n",
       " 'relationship',\n",
       " 'race',\n",
       " 'sex',\n",
       " 'native-country',\n",
       " 'annual_income']"
      ]
     },
     "execution_count": 25,
     "metadata": {},
     "output_type": "execute_result"
    }
   ],
   "source": [
    "cat_features = []\n",
    "for i in df.columns:\n",
    "    if df[i].dtype == 'object':\n",
    "        cat_features.append(i)\n",
    "        \n",
    "cat_features"
   ]
  },
  {
   "cell_type": "code",
   "execution_count": 26,
   "id": "148b599f",
   "metadata": {},
   "outputs": [
    {
     "data": {
      "text/html": [
       "<div>\n",
       "<style scoped>\n",
       "    .dataframe tbody tr th:only-of-type {\n",
       "        vertical-align: middle;\n",
       "    }\n",
       "\n",
       "    .dataframe tbody tr th {\n",
       "        vertical-align: top;\n",
       "    }\n",
       "\n",
       "    .dataframe thead th {\n",
       "        text-align: right;\n",
       "    }\n",
       "</style>\n",
       "<table border=\"1\" class=\"dataframe\">\n",
       "  <thead>\n",
       "    <tr style=\"text-align: right;\">\n",
       "      <th></th>\n",
       "      <th>annual_income</th>\n",
       "    </tr>\n",
       "  </thead>\n",
       "  <tbody>\n",
       "    <tr>\n",
       "      <th>&lt;=50K</th>\n",
       "      <td>24698</td>\n",
       "    </tr>\n",
       "    <tr>\n",
       "      <th>&gt;50K</th>\n",
       "      <td>7839</td>\n",
       "    </tr>\n",
       "  </tbody>\n",
       "</table>\n",
       "</div>"
      ],
      "text/plain": [
       "       annual_income\n",
       "<=50K          24698\n",
       ">50K            7839"
      ]
     },
     "execution_count": 26,
     "metadata": {},
     "output_type": "execute_result"
    }
   ],
   "source": [
    "# Bar plot of the target variable\n",
    "\n",
    "df2 =pd.DataFrame(df['annual_income'].value_counts())\n",
    "df2"
   ]
  },
  {
   "cell_type": "code",
   "execution_count": 27,
   "id": "af7c8de4",
   "metadata": {},
   "outputs": [
    {
     "data": {
      "text/html": [
       "<div>\n",
       "<style scoped>\n",
       "    .dataframe tbody tr th:only-of-type {\n",
       "        vertical-align: middle;\n",
       "    }\n",
       "\n",
       "    .dataframe tbody tr th {\n",
       "        vertical-align: top;\n",
       "    }\n",
       "\n",
       "    .dataframe thead th {\n",
       "        text-align: right;\n",
       "    }\n",
       "</style>\n",
       "<table border=\"1\" class=\"dataframe\">\n",
       "  <thead>\n",
       "    <tr style=\"text-align: right;\">\n",
       "      <th></th>\n",
       "      <th>index</th>\n",
       "      <th>annual_income</th>\n",
       "    </tr>\n",
       "  </thead>\n",
       "  <tbody>\n",
       "    <tr>\n",
       "      <th>0</th>\n",
       "      <td>&lt;=50K</td>\n",
       "      <td>24698</td>\n",
       "    </tr>\n",
       "    <tr>\n",
       "      <th>1</th>\n",
       "      <td>&gt;50K</td>\n",
       "      <td>7839</td>\n",
       "    </tr>\n",
       "  </tbody>\n",
       "</table>\n",
       "</div>"
      ],
      "text/plain": [
       "   index  annual_income\n",
       "0  <=50K          24698\n",
       "1   >50K           7839"
      ]
     },
     "execution_count": 27,
     "metadata": {},
     "output_type": "execute_result"
    }
   ],
   "source": [
    "df2.reset_index(inplace = True)\n",
    "df2"
   ]
  },
  {
   "cell_type": "code",
   "execution_count": 28,
   "id": "7c1823ef",
   "metadata": {},
   "outputs": [
    {
     "data": {
      "image/png": "[encoded data removed]",
      "text/plain": [
       "<Figure size 700x500 with 1 Axes>"
      ]
     },
     "metadata": {},
     "output_type": "display_data"
    }
   ],
   "source": [
    "plt.figure(figsize=(7,5))\n",
    "plots = sns.barplot(df2, x = 'index', y=\"annual_income\")\n",
    "plt.xlabel ('income category')\n",
    "plt.ylabel('income')\n",
    "plt.title(\"Income categories\")\n",
    "for p in plots.patches:\n",
    "    plots.annotate(format(p.get_height(), '.2f'), \n",
    "                   (p.get_x() + p.get_width() / 2, \n",
    "                    p.get_height()), ha='center', va='center',\n",
    "                   size=15, xytext=(0, 8),\n",
    "                   textcoords='offset points')"
   ]
  },
  {
   "cell_type": "markdown",
   "id": "1181a376",
   "metadata": {},
   "source": [
    "# INFERENCE:\n",
    "    \n",
    "## 1. 75% of the population has income of less than or equal to 50K\n",
    "## 2. only 25% has income over 50K"
   ]
  },
  {
   "cell_type": "code",
   "execution_count": 29,
   "id": "09fed452",
   "metadata": {},
   "outputs": [
    {
     "data": {
      "text/html": [
       "<div>\n",
       "<style scoped>\n",
       "    .dataframe tbody tr th:only-of-type {\n",
       "        vertical-align: middle;\n",
       "    }\n",
       "\n",
       "    .dataframe tbody tr th {\n",
       "        vertical-align: top;\n",
       "    }\n",
       "\n",
       "    .dataframe thead th {\n",
       "        text-align: right;\n",
       "    }\n",
       "</style>\n",
       "<table border=\"1\" class=\"dataframe\">\n",
       "  <thead>\n",
       "    <tr style=\"text-align: right;\">\n",
       "      <th></th>\n",
       "      <th>age</th>\n",
       "      <th>workclass</th>\n",
       "      <th>fnlwgt</th>\n",
       "      <th>education</th>\n",
       "      <th>education-num</th>\n",
       "      <th>marital-status</th>\n",
       "      <th>occupation</th>\n",
       "      <th>relationship</th>\n",
       "      <th>race</th>\n",
       "      <th>sex</th>\n",
       "      <th>capital-gain</th>\n",
       "      <th>capital-loss</th>\n",
       "      <th>hours-per-week</th>\n",
       "      <th>native-country</th>\n",
       "      <th>annual_income</th>\n",
       "    </tr>\n",
       "  </thead>\n",
       "  <tbody>\n",
       "    <tr>\n",
       "      <th>0</th>\n",
       "      <td>39</td>\n",
       "      <td>State-gov</td>\n",
       "      <td>77516</td>\n",
       "      <td>Bachelors</td>\n",
       "      <td>13</td>\n",
       "      <td>Never-married</td>\n",
       "      <td>Adm-clerical</td>\n",
       "      <td>Not-in-family</td>\n",
       "      <td>White</td>\n",
       "      <td>Male</td>\n",
       "      <td>2174</td>\n",
       "      <td>0</td>\n",
       "      <td>40</td>\n",
       "      <td>United-States</td>\n",
       "      <td>0</td>\n",
       "    </tr>\n",
       "    <tr>\n",
       "      <th>1</th>\n",
       "      <td>50</td>\n",
       "      <td>Self-emp-not-inc</td>\n",
       "      <td>83311</td>\n",
       "      <td>Bachelors</td>\n",
       "      <td>13</td>\n",
       "      <td>Married-civ-spouse</td>\n",
       "      <td>Exec-managerial</td>\n",
       "      <td>Husband</td>\n",
       "      <td>White</td>\n",
       "      <td>Male</td>\n",
       "      <td>0</td>\n",
       "      <td>0</td>\n",
       "      <td>13</td>\n",
       "      <td>United-States</td>\n",
       "      <td>0</td>\n",
       "    </tr>\n",
       "    <tr>\n",
       "      <th>2</th>\n",
       "      <td>38</td>\n",
       "      <td>Private</td>\n",
       "      <td>215646</td>\n",
       "      <td>HS-grad</td>\n",
       "      <td>9</td>\n",
       "      <td>Divorced</td>\n",
       "      <td>Handlers-cleaners</td>\n",
       "      <td>Not-in-family</td>\n",
       "      <td>White</td>\n",
       "      <td>Male</td>\n",
       "      <td>0</td>\n",
       "      <td>0</td>\n",
       "      <td>40</td>\n",
       "      <td>United-States</td>\n",
       "      <td>0</td>\n",
       "    </tr>\n",
       "    <tr>\n",
       "      <th>3</th>\n",
       "      <td>53</td>\n",
       "      <td>Private</td>\n",
       "      <td>234721</td>\n",
       "      <td>11th</td>\n",
       "      <td>7</td>\n",
       "      <td>Married-civ-spouse</td>\n",
       "      <td>Handlers-cleaners</td>\n",
       "      <td>Husband</td>\n",
       "      <td>Black</td>\n",
       "      <td>Male</td>\n",
       "      <td>0</td>\n",
       "      <td>0</td>\n",
       "      <td>40</td>\n",
       "      <td>United-States</td>\n",
       "      <td>0</td>\n",
       "    </tr>\n",
       "  </tbody>\n",
       "</table>\n",
       "</div>"
      ],
      "text/plain": [
       "   age         workclass  fnlwgt  education  education-num  \\\n",
       "0   39         State-gov   77516  Bachelors             13   \n",
       "1   50  Self-emp-not-inc   83311  Bachelors             13   \n",
       "2   38           Private  215646    HS-grad              9   \n",
       "3   53           Private  234721       11th              7   \n",
       "\n",
       "       marital-status         occupation   relationship   race   sex  \\\n",
       "0       Never-married       Adm-clerical  Not-in-family  White  Male   \n",
       "1  Married-civ-spouse    Exec-managerial        Husband  White  Male   \n",
       "2            Divorced  Handlers-cleaners  Not-in-family  White  Male   \n",
       "3  Married-civ-spouse  Handlers-cleaners        Husband  Black  Male   \n",
       "\n",
       "   capital-gain  capital-loss  hours-per-week native-country  annual_income  \n",
       "0          2174             0              40  United-States              0  \n",
       "1             0             0              13  United-States              0  \n",
       "2             0             0              40  United-States              0  \n",
       "3             0             0              40  United-States              0  "
      ]
     },
     "execution_count": 29,
     "metadata": {},
     "output_type": "execute_result"
    }
   ],
   "source": [
    "# # Reformat Column We Are Predicting\n",
    "df2 = df.copy()\n",
    "\n",
    "\n",
    "df2['annual_income']=df2['annual_income'].map({'<=50K': 0, '>50K': 1, '<=50K.': 0, '>50K.': 1})\n",
    "df2.head(4)"
   ]
  },
  {
   "cell_type": "code",
   "execution_count": 30,
   "id": "4822abb0",
   "metadata": {},
   "outputs": [
    {
     "name": "stderr",
     "output_type": "stream",
     "text": [
      "/var/folders/8h/67zlqswd6nsfxgp6gvbcx7gc0000gn/T/ipykernel_70677/619647902.py:3: FutureWarning: The default value of numeric_only in DataFrame.corr is deprecated. In a future version, it will default to False. Select only valid columns or specify the value of numeric_only to silence this warning.\n",
      "  sns.heatmap(df2.corr(), cmap = 'Greens', annot = True, )\n"
     ]
    },
    {
     "data": {
      "image/png": "[encoded data removed]",
      "text/plain": [
       "<Figure size 640x480 with 2 Axes>"
      ]
     },
     "metadata": {},
     "output_type": "display_data"
    }
   ],
   "source": [
    "# CORRELATION BETWEEN NUMERICAL FEATURES\n",
    "\n",
    "sns.heatmap(df2.corr(), cmap = 'Greens', annot = True, )\n",
    "plt.show()"
   ]
  },
  {
   "cell_type": "code",
   "execution_count": 31,
   "id": "f4979ce9",
   "metadata": {},
   "outputs": [
    {
     "data": {
      "image/png": "[encoded data removed]",
      "text/plain": [
       "<Figure size 500x500 with 1 Axes>"
      ]
     },
     "metadata": {},
     "output_type": "display_data"
    }
   ],
   "source": [
    "# INFERENCE:\n",
    "\n",
    "# # Number of years of education has a bit more correlation than others to the annual income\n",
    "# # Looking at how it affects the income\n",
    "\n",
    "# Explore Education Num vs Income\n",
    "g = sns.catplot(x=\"education-num\",y=\"annual_income\",data=df2,kind=\"bar\",palette = \"muted\")\n",
    "# g.despine(left=True)\n",
    "g = g.set_ylabels(\">50K probability\")"
   ]
  },
  {
   "cell_type": "code",
   "execution_count": 32,
   "id": "b841e62f",
   "metadata": {},
   "outputs": [
    {
     "data": {
      "text/plain": [
       "9     10494\n",
       "10     7282\n",
       "13     5353\n",
       "14     1722\n",
       "11     1382\n",
       "7      1175\n",
       "12     1067\n",
       "6       933\n",
       "4       645\n",
       "15      576\n",
       "5       514\n",
       "8       433\n",
       "16      413\n",
       "3       332\n",
       "2       166\n",
       "1        50\n",
       "Name: education-num, dtype: int64"
      ]
     },
     "execution_count": 32,
     "metadata": {},
     "output_type": "execute_result"
    }
   ],
   "source": [
    "# Most of the >50K paid people had 9-14 years of education\n",
    "\n",
    "df2[\"education-num\"].value_counts(sort = True, ascending = False)"
   ]
  },
  {
   "cell_type": "code",
   "execution_count": 33,
   "id": "c4336998",
   "metadata": {},
   "outputs": [
    {
     "data": {
      "text/plain": [
       "education-num\n",
       "1        50\n",
       "2       166\n",
       "3       332\n",
       "4       645\n",
       "5       514\n",
       "6       933\n",
       "7      1175\n",
       "8       433\n",
       "9     10494\n",
       "10     7282\n",
       "11     1382\n",
       "12     1067\n",
       "13     5353\n",
       "14     1722\n",
       "15      576\n",
       "16      413\n",
       "Name: annual_income, dtype: int64"
      ]
     },
     "execution_count": 33,
     "metadata": {},
     "output_type": "execute_result"
    }
   ],
   "source": [
    "df2.groupby('education-num')['annual_income'].count()"
   ]
  },
  {
   "cell_type": "code",
   "execution_count": 34,
   "id": "020237a7",
   "metadata": {},
   "outputs": [
    {
     "data": {
      "image/png": "[encoded data removed]",
      "text/plain": [
       "<Figure size 600x300 with 2 Axes>"
      ]
     },
     "metadata": {},
     "output_type": "display_data"
    }
   ],
   "source": [
    "# Explore Age vs Income\n",
    "g = sns.FacetGrid(df2, col='annual_income')\n",
    "g = g.map(sns.histplot, \"age\")\n",
    "plt.show()\n",
    "\n",
    "\n",
    "# Income of more than 50K are mostly in the age of 30-60 peaking at 35-50\n",
    "# Income of less than 50K is highest in the age of 20-30 and reduces significantly as age progresses"
   ]
  },
  {
   "cell_type": "code",
   "execution_count": 35,
   "id": "7eb51110",
   "metadata": {},
   "outputs": [],
   "source": [
    "# Age group and Income distribution\n",
    "\n",
    "def age_group(x):\n",
    "    x = int(x)\n",
    "    \n",
    "    if(18<x<31):\n",
    "        return \"19-30\"\n",
    "    if(32<x<41):\n",
    "        return \"31-40\"\n",
    "    if(42<x<51):\n",
    "        return \"41-50\"\n",
    "    if(52<x<61):\n",
    "        return \"51-60\"\n",
    "    if(62<x<71):\n",
    "        return \"61-70\"\n",
    "    else:\n",
    "        return\"Greater than 70\"\n",
    "    \n",
    "df2[\"age_group\"]= df2['age'].apply(age_group)"
   ]
  },
  {
   "cell_type": "code",
   "execution_count": 36,
   "id": "92503a37",
   "metadata": {},
   "outputs": [
    {
     "data": {
      "image/png": "[encoded data removed]",
      "text/plain": [
       "<Figure size 1200x700 with 1 Axes>"
      ]
     },
     "metadata": {},
     "output_type": "display_data"
    }
   ],
   "source": [
    "plt.figure(figsize = (12,7))\n",
    "order_list = [\"19-30\",\"31-40\",\"41-50\",\"51-60\",\"61-70\",\"Greater than 70\"]\n",
    "sns.countplot(x = df2['age_group'], hue = df2[\"annual_income\"], palette = 'Greens_r', order = order_list)\n",
    "plt.title(\"Income of individuals of age groups\", fontsize = 18, fontweight = 'bold')\n",
    "plt.show()\n",
    "\n"
   ]
  },
  {
   "cell_type": "code",
   "execution_count": 37,
   "id": "fe9c0c4d",
   "metadata": {},
   "outputs": [],
   "source": [
    "# Most of the individuals with income less than 50K are in the age of 19-30\n",
    "# While the more than 50K income earners are in the category of 31-60 with highest at 30-50 and over 70"
   ]
  },
  {
   "cell_type": "markdown",
   "id": "738ab712",
   "metadata": {},
   "source": [
    "# CATEGORICAL FEATURES"
   ]
  },
  {
   "cell_type": "code",
   "execution_count": 38,
   "id": "00b7da6c",
   "metadata": {},
   "outputs": [
    {
     "data": {
      "text/plain": [
       "['workclass',\n",
       " 'education',\n",
       " 'marital-status',\n",
       " 'occupation',\n",
       " 'relationship',\n",
       " 'race',\n",
       " 'sex',\n",
       " 'native-country',\n",
       " 'annual_income']"
      ]
     },
     "execution_count": 38,
     "metadata": {},
     "output_type": "execute_result"
    }
   ],
   "source": [
    "cat_features"
   ]
  },
  {
   "cell_type": "code",
   "execution_count": 39,
   "id": "bcc8f0c5",
   "metadata": {},
   "outputs": [
    {
     "data": {
      "image/png": "[encoded data removed]",
      "text/plain": [
       "<Figure size 640x480 with 1 Axes>"
      ]
     },
     "metadata": {},
     "output_type": "display_data"
    }
   ],
   "source": [
    "# Plotting workclass and annual income\n",
    "\n",
    "sns.countplot(x = df['workclass'], hue = df['annual_income'], palette = 'Greens')\n",
    "plt.xticks(rotation = 45)\n",
    "plt.show()\n",
    "\n",
    "# INFERENCE\n",
    "\n",
    "# 1. Most of them are employed in private sector and  more than 75% earn less than 50K in private sector\n",
    "# 2. Only in self employed category the number of people earning over 50K are higher than the number \n",
    "# earning less than 50K\n",
    "# 3. Local gov and self employed not incorporated also have reasonable income of less than 50K \n",
    "# 4. Without pay and never worked dont fall under any category at all"
   ]
  },
  {
   "cell_type": "code",
   "execution_count": 40,
   "id": "937814ca",
   "metadata": {},
   "outputs": [
    {
     "data": {
      "image/png": "[encoded data removed]",
      "text/plain": [
       "<Figure size 1600x800 with 1 Axes>"
      ]
     },
     "metadata": {},
     "output_type": "display_data"
    }
   ],
   "source": [
    "# Plotting education and annual income\n",
    "plt.figure(figsize = (16,8))\n",
    "sns.countplot(x = df['education'], hue = df['annual_income'], palette = 'Blues')\n",
    "plt.xticks(rotation = 45)\n",
    "plt.legend(fontsize = 16)\n",
    "plt.xticks(fontsize = 12)\n",
    "plt.yticks(fontsize = 12)\n",
    "plt.show()\n",
    "\n",
    "\n",
    "# # INFERENCE\n",
    "\n",
    "# 1. Most of the less than 50K earners are high school graduates and some college graduates\n",
    "# 2.Those who diud bachelors have somewhat almost equal number of less than 50k and more than 50K earners\n",
    "# 3.Those who did masters, docotral and professional school have more than 50K earns than less \n",
    "# 4. Anyone who did until 12th have predominantly less than 50K earning"
   ]
  },
  {
   "cell_type": "code",
   "execution_count": 41,
   "id": "6e610171",
   "metadata": {},
   "outputs": [
    {
     "data": {
      "image/png": "[encoded data removed]",
      "text/plain": [
       "<Figure size 1600x800 with 1 Axes>"
      ]
     },
     "metadata": {},
     "output_type": "display_data"
    }
   ],
   "source": [
    "# Plotting marital status and annual income\n",
    "plt.figure(figsize = (16,8))\n",
    "sns.countplot(x = df['marital-status'], hue = df['annual_income'], palette = 'Reds')\n",
    "plt.xticks(rotation = 45)\n",
    "plt.legend(fontsize = 16)\n",
    "plt.xticks(fontsize = 12)\n",
    "plt.yticks(fontsize = 12)\n",
    "plt.show()\n",
    "\n",
    "\n",
    "# # INFERENCE\n",
    "\n",
    "# 1. Only in the married-civ-spouse category has similar number of both earner categories\n",
    "# 2. Everything else has only earners of less than 50K "
   ]
  },
  {
   "cell_type": "code",
   "execution_count": 42,
   "id": "6cb82541",
   "metadata": {},
   "outputs": [
    {
     "data": {
      "image/png": "[encoded data removed]",
      "text/plain": [
       "<Figure size 1600x800 with 1 Axes>"
      ]
     },
     "metadata": {},
     "output_type": "display_data"
    }
   ],
   "source": [
    "# Plotting occupation and annual income\n",
    "plt.figure(figsize = (16,8))\n",
    "sns.countplot(x = df['occupation'], hue = df['annual_income'], palette = 'Blues')\n",
    "plt.xticks(rotation = 45)\n",
    "plt.legend(fontsize = 16)\n",
    "plt.xticks(fontsize = 12)\n",
    "plt.yticks(fontsize = 12)\n",
    "plt.show()\n",
    "\n",
    "\n",
    "# # INFERENCE\n",
    "# 1. Mangerial, sales , Prof speciality and craft repair have large number of less than 50K earners\n",
    "# 2. Managerial sales is the only category where equal income distribution has happened\n",
    "# 3.Cleaner, other services, priv house servants, farming -fishing have negligeble numbers of more than 50K earners\n",
    "\n"
   ]
  },
  {
   "cell_type": "code",
   "execution_count": 43,
   "id": "8fa5d24a",
   "metadata": {},
   "outputs": [
    {
     "data": {
      "image/png": "[encoded data removed]",
      "text/plain": [
       "<Figure size 1600x800 with 1 Axes>"
      ]
     },
     "metadata": {},
     "output_type": "display_data"
    }
   ],
   "source": [
    "# Plotting occupation and annual income\n",
    "plt.figure(figsize = (16,8))\n",
    "sns.countplot(x = df['relationship'], hue = df['annual_income'], palette = 'Greens')\n",
    "plt.xticks(rotation = 45)\n",
    "plt.legend(fontsize = 16)\n",
    "plt.xticks(fontsize = 12)\n",
    "plt.yticks(fontsize = 12)\n",
    "plt.show()\n",
    "\n",
    "\n",
    "# # INFERENCE\n",
    "\n",
    "# 1. Wives have equal earners in both categories\n",
    "# 2. Husbands also have high earners but a bit lesser than 50K\n",
    "# 3. Unmarried people and not in family have very less earners in over 50K category\n",
    "# 4. Those with own child have less than 50K while negligeble numbers in over 50K category\n"
   ]
  },
  {
   "cell_type": "code",
   "execution_count": 44,
   "id": "72a6daae",
   "metadata": {},
   "outputs": [
    {
     "data": {
      "image/png": "[encoded data removed]",
      "text/plain": [
       "<Figure size 1600x800 with 1 Axes>"
      ]
     },
     "metadata": {},
     "output_type": "display_data"
    }
   ],
   "source": [
    "# Plotting occupation and annual income\n",
    "plt.figure(figsize = (16,8))\n",
    "sns.countplot(x = df['race'], hue = df['annual_income'], palette = 'Reds')\n",
    "plt.xticks(rotation = 45)\n",
    "plt.legend(fontsize = 16)\n",
    "plt.xticks(fontsize = 12)\n",
    "plt.yticks(fontsize = 12)\n",
    "plt.show()\n",
    "\n",
    "\n",
    "# INFERENCE:\n",
    "    \n",
    "#     1.70% of the population belongs to white race and extremely negligent amount in others\n",
    "#     2.onoy 25% of the white get paid over 50K whilst in other races its far less significant"
   ]
  },
  {
   "cell_type": "code",
   "execution_count": 45,
   "id": "ae2108b4",
   "metadata": {},
   "outputs": [
    {
     "data": {
      "image/png": "[encoded data removed]",
      "text/plain": [
       "<Figure size 1600x800 with 1 Axes>"
      ]
     },
     "metadata": {},
     "output_type": "display_data"
    }
   ],
   "source": [
    "# Plotting occupation and annual income\n",
    "plt.figure(figsize = (16,8))\n",
    "sns.countplot(x = df['sex'], hue = df['annual_income'], palette = 'Blues')\n",
    "plt.xticks(rotation = 45)\n",
    "plt.legend(fontsize = 16)\n",
    "plt.xticks(fontsize = 12)\n",
    "plt.yticks(fontsize = 12)\n",
    "plt.show()\n",
    "\n",
    "# # INFERENCE\n",
    "\n",
    "# 1. There are higher more than 50K earners in male than females \n",
    "# 2. 30 % of males earn over 50K\n",
    "# 3. Less than 10% females earn over 50K\n"
   ]
  },
  {
   "cell_type": "code",
   "execution_count": 46,
   "id": "13859df9",
   "metadata": {},
   "outputs": [
    {
     "data": {
      "image/png": "[encoded data removed]",
      "text/plain": [
       "<Figure size 2000x800 with 1 Axes>"
      ]
     },
     "metadata": {},
     "output_type": "display_data"
    }
   ],
   "source": [
    "# Plotting occupation and annual income\n",
    "plt.figure(figsize = (20,8))\n",
    "sns.countplot(x = df['native-country'], hue = df['annual_income'], palette = 'Blues')\n",
    "plt.xticks(rotation = 45)\n",
    "plt.legend(fontsize = 16)\n",
    "plt.xticks(fontsize = 12)\n",
    "plt.yticks(fontsize = 12)\n",
    "plt.show()\n",
    "\n",
    "# INFERENCE\n",
    "\n",
    "# 1. Most of the data seems to be from united states.\n",
    "# 2. Negligeble data from other countries "
   ]
  },
  {
   "cell_type": "code",
   "execution_count": 47,
   "id": "33965b5f",
   "metadata": {},
   "outputs": [],
   "source": [
    "# # OUTLIER DECISION\n",
    "\n",
    "# There are plenty of outliers and if they are removed 50% of the data is lost\n",
    "\n",
    "# I have decided not to remove any outliers"
   ]
  },
  {
   "cell_type": "code",
   "execution_count": 48,
   "id": "c73ab89a",
   "metadata": {},
   "outputs": [
    {
     "data": {
      "text/plain": [
       "0       31018\n",
       "1902      202\n",
       "1977      168\n",
       "1887      159\n",
       "1848       51\n",
       "        ...  \n",
       "2080        1\n",
       "1539        1\n",
       "1844        1\n",
       "2489        1\n",
       "1411        1\n",
       "Name: capital-loss, Length: 92, dtype: int64"
      ]
     },
     "execution_count": 48,
     "metadata": {},
     "output_type": "execute_result"
    }
   ],
   "source": [
    "# Checking the unique values in capital loss and capital gain columns\n",
    "\n",
    "df['capital-loss'].value_counts()\n",
    "\n",
    "# 90% of the data has value 0, i have decided to drop the column as well as its not adding any value to the data"
   ]
  },
  {
   "cell_type": "code",
   "execution_count": 49,
   "id": "ff612698",
   "metadata": {},
   "outputs": [
    {
     "data": {
      "text/plain": [
       "0        29825\n",
       "15024      347\n",
       "7688       284\n",
       "7298       246\n",
       "99999      159\n",
       "         ...  \n",
       "1111         1\n",
       "2538         1\n",
       "22040        1\n",
       "4931         1\n",
       "5060         1\n",
       "Name: capital-gain, Length: 119, dtype: int64"
      ]
     },
     "execution_count": 49,
     "metadata": {},
     "output_type": "execute_result"
    }
   ],
   "source": [
    "\n",
    "df['capital-gain'].value_counts()\n",
    "\n",
    "# 85% of the data has value 0, i have decided to drop the column as well as its not adding any value to the data"
   ]
  },
  {
   "cell_type": "code",
   "execution_count": 50,
   "id": "802f0f11",
   "metadata": {},
   "outputs": [],
   "source": [
    "# DROPPING THE TWO COLUMNS\n",
    "\n",
    "df.drop(['capital-loss', 'capital-gain'], axis = 1, inplace = True)"
   ]
  },
  {
   "cell_type": "code",
   "execution_count": 51,
   "id": "92d73261",
   "metadata": {},
   "outputs": [
    {
     "data": {
      "text/html": [
       "<div>\n",
       "<style scoped>\n",
       "    .dataframe tbody tr th:only-of-type {\n",
       "        vertical-align: middle;\n",
       "    }\n",
       "\n",
       "    .dataframe tbody tr th {\n",
       "        vertical-align: top;\n",
       "    }\n",
       "\n",
       "    .dataframe thead th {\n",
       "        text-align: right;\n",
       "    }\n",
       "</style>\n",
       "<table border=\"1\" class=\"dataframe\">\n",
       "  <thead>\n",
       "    <tr style=\"text-align: right;\">\n",
       "      <th></th>\n",
       "      <th>age</th>\n",
       "      <th>workclass</th>\n",
       "      <th>fnlwgt</th>\n",
       "      <th>education</th>\n",
       "      <th>education-num</th>\n",
       "      <th>marital-status</th>\n",
       "      <th>occupation</th>\n",
       "      <th>relationship</th>\n",
       "      <th>race</th>\n",
       "      <th>sex</th>\n",
       "      <th>hours-per-week</th>\n",
       "      <th>native-country</th>\n",
       "      <th>annual_income</th>\n",
       "    </tr>\n",
       "  </thead>\n",
       "  <tbody>\n",
       "    <tr>\n",
       "      <th>0</th>\n",
       "      <td>39</td>\n",
       "      <td>State-gov</td>\n",
       "      <td>77516</td>\n",
       "      <td>Bachelors</td>\n",
       "      <td>13</td>\n",
       "      <td>Never-married</td>\n",
       "      <td>Adm-clerical</td>\n",
       "      <td>Not-in-family</td>\n",
       "      <td>White</td>\n",
       "      <td>Male</td>\n",
       "      <td>40</td>\n",
       "      <td>United-States</td>\n",
       "      <td>&lt;=50K</td>\n",
       "    </tr>\n",
       "    <tr>\n",
       "      <th>1</th>\n",
       "      <td>50</td>\n",
       "      <td>Self-emp-not-inc</td>\n",
       "      <td>83311</td>\n",
       "      <td>Bachelors</td>\n",
       "      <td>13</td>\n",
       "      <td>Married-civ-spouse</td>\n",
       "      <td>Exec-managerial</td>\n",
       "      <td>Husband</td>\n",
       "      <td>White</td>\n",
       "      <td>Male</td>\n",
       "      <td>13</td>\n",
       "      <td>United-States</td>\n",
       "      <td>&lt;=50K</td>\n",
       "    </tr>\n",
       "    <tr>\n",
       "      <th>2</th>\n",
       "      <td>38</td>\n",
       "      <td>Private</td>\n",
       "      <td>215646</td>\n",
       "      <td>HS-grad</td>\n",
       "      <td>9</td>\n",
       "      <td>Divorced</td>\n",
       "      <td>Handlers-cleaners</td>\n",
       "      <td>Not-in-family</td>\n",
       "      <td>White</td>\n",
       "      <td>Male</td>\n",
       "      <td>40</td>\n",
       "      <td>United-States</td>\n",
       "      <td>&lt;=50K</td>\n",
       "    </tr>\n",
       "    <tr>\n",
       "      <th>3</th>\n",
       "      <td>53</td>\n",
       "      <td>Private</td>\n",
       "      <td>234721</td>\n",
       "      <td>11th</td>\n",
       "      <td>7</td>\n",
       "      <td>Married-civ-spouse</td>\n",
       "      <td>Handlers-cleaners</td>\n",
       "      <td>Husband</td>\n",
       "      <td>Black</td>\n",
       "      <td>Male</td>\n",
       "      <td>40</td>\n",
       "      <td>United-States</td>\n",
       "      <td>&lt;=50K</td>\n",
       "    </tr>\n",
       "    <tr>\n",
       "      <th>4</th>\n",
       "      <td>28</td>\n",
       "      <td>Private</td>\n",
       "      <td>338409</td>\n",
       "      <td>Bachelors</td>\n",
       "      <td>13</td>\n",
       "      <td>Married-civ-spouse</td>\n",
       "      <td>Prof-specialty</td>\n",
       "      <td>Wife</td>\n",
       "      <td>Black</td>\n",
       "      <td>Female</td>\n",
       "      <td>40</td>\n",
       "      <td>Cuba</td>\n",
       "      <td>&lt;=50K</td>\n",
       "    </tr>\n",
       "  </tbody>\n",
       "</table>\n",
       "</div>"
      ],
      "text/plain": [
       "   age         workclass  fnlwgt  education  education-num  \\\n",
       "0   39         State-gov   77516  Bachelors             13   \n",
       "1   50  Self-emp-not-inc   83311  Bachelors             13   \n",
       "2   38           Private  215646    HS-grad              9   \n",
       "3   53           Private  234721       11th              7   \n",
       "4   28           Private  338409  Bachelors             13   \n",
       "\n",
       "       marital-status         occupation   relationship   race     sex  \\\n",
       "0       Never-married       Adm-clerical  Not-in-family  White    Male   \n",
       "1  Married-civ-spouse    Exec-managerial        Husband  White    Male   \n",
       "2            Divorced  Handlers-cleaners  Not-in-family  White    Male   \n",
       "3  Married-civ-spouse  Handlers-cleaners        Husband  Black    Male   \n",
       "4  Married-civ-spouse     Prof-specialty           Wife  Black  Female   \n",
       "\n",
       "   hours-per-week native-country annual_income  \n",
       "0              40  United-States         <=50K  \n",
       "1              13  United-States         <=50K  \n",
       "2              40  United-States         <=50K  \n",
       "3              40  United-States         <=50K  \n",
       "4              40           Cuba         <=50K  "
      ]
     },
     "execution_count": 51,
     "metadata": {},
     "output_type": "execute_result"
    }
   ],
   "source": [
    "df.head()"
   ]
  },
  {
   "cell_type": "markdown",
   "id": "4a7b83a3",
   "metadata": {},
   "source": [
    "# ENCODING DATA"
   ]
  },
  {
   "cell_type": "code",
   "execution_count": 52,
   "id": "2aabd8ef",
   "metadata": {},
   "outputs": [
    {
     "data": {
      "text/plain": [
       "['workclass',\n",
       " 'education',\n",
       " 'marital-status',\n",
       " 'occupation',\n",
       " 'relationship',\n",
       " 'race',\n",
       " 'sex',\n",
       " 'native-country',\n",
       " 'annual_income']"
      ]
     },
     "execution_count": 52,
     "metadata": {},
     "output_type": "execute_result"
    }
   ],
   "source": [
    "# Encoding all the categorical features\n",
    "\n",
    "cat_features"
   ]
  },
  {
   "cell_type": "code",
   "execution_count": 53,
   "id": "39efccf4",
   "metadata": {},
   "outputs": [],
   "source": [
    "# Importing Label Encoder\n",
    "\n",
    "from sklearn.preprocessing import LabelEncoder\n"
   ]
  },
  {
   "cell_type": "code",
   "execution_count": 54,
   "id": "d7822637",
   "metadata": {},
   "outputs": [],
   "source": [
    "le = LabelEncoder()"
   ]
  },
  {
   "cell_type": "code",
   "execution_count": 55,
   "id": "a8890773",
   "metadata": {},
   "outputs": [],
   "source": [
    "categorical = ['workclass','education', 'marital-status', 'occupation', 'relationship',\n",
    "               'race', 'sex','native-country']\n",
    "\n",
    "for col in categorical:\n",
    "    le.fit(df[col])\n",
    "    df[col] = le.transform(df[col])"
   ]
  },
  {
   "cell_type": "code",
   "execution_count": 56,
   "id": "882c3d3e",
   "metadata": {},
   "outputs": [
    {
     "data": {
      "text/html": [
       "<div>\n",
       "<style scoped>\n",
       "    .dataframe tbody tr th:only-of-type {\n",
       "        vertical-align: middle;\n",
       "    }\n",
       "\n",
       "    .dataframe tbody tr th {\n",
       "        vertical-align: top;\n",
       "    }\n",
       "\n",
       "    .dataframe thead th {\n",
       "        text-align: right;\n",
       "    }\n",
       "</style>\n",
       "<table border=\"1\" class=\"dataframe\">\n",
       "  <thead>\n",
       "    <tr style=\"text-align: right;\">\n",
       "      <th></th>\n",
       "      <th>age</th>\n",
       "      <th>workclass</th>\n",
       "      <th>fnlwgt</th>\n",
       "      <th>education</th>\n",
       "      <th>education-num</th>\n",
       "      <th>marital-status</th>\n",
       "      <th>occupation</th>\n",
       "      <th>relationship</th>\n",
       "      <th>race</th>\n",
       "      <th>sex</th>\n",
       "      <th>hours-per-week</th>\n",
       "      <th>native-country</th>\n",
       "      <th>annual_income</th>\n",
       "    </tr>\n",
       "  </thead>\n",
       "  <tbody>\n",
       "    <tr>\n",
       "      <th>0</th>\n",
       "      <td>39</td>\n",
       "      <td>6</td>\n",
       "      <td>77516</td>\n",
       "      <td>9</td>\n",
       "      <td>13</td>\n",
       "      <td>4</td>\n",
       "      <td>0</td>\n",
       "      <td>1</td>\n",
       "      <td>4</td>\n",
       "      <td>1</td>\n",
       "      <td>40</td>\n",
       "      <td>38</td>\n",
       "      <td>&lt;=50K</td>\n",
       "    </tr>\n",
       "    <tr>\n",
       "      <th>1</th>\n",
       "      <td>50</td>\n",
       "      <td>5</td>\n",
       "      <td>83311</td>\n",
       "      <td>9</td>\n",
       "      <td>13</td>\n",
       "      <td>2</td>\n",
       "      <td>3</td>\n",
       "      <td>0</td>\n",
       "      <td>4</td>\n",
       "      <td>1</td>\n",
       "      <td>13</td>\n",
       "      <td>38</td>\n",
       "      <td>&lt;=50K</td>\n",
       "    </tr>\n",
       "    <tr>\n",
       "      <th>2</th>\n",
       "      <td>38</td>\n",
       "      <td>3</td>\n",
       "      <td>215646</td>\n",
       "      <td>11</td>\n",
       "      <td>9</td>\n",
       "      <td>0</td>\n",
       "      <td>5</td>\n",
       "      <td>1</td>\n",
       "      <td>4</td>\n",
       "      <td>1</td>\n",
       "      <td>40</td>\n",
       "      <td>38</td>\n",
       "      <td>&lt;=50K</td>\n",
       "    </tr>\n",
       "    <tr>\n",
       "      <th>3</th>\n",
       "      <td>53</td>\n",
       "      <td>3</td>\n",
       "      <td>234721</td>\n",
       "      <td>1</td>\n",
       "      <td>7</td>\n",
       "      <td>2</td>\n",
       "      <td>5</td>\n",
       "      <td>0</td>\n",
       "      <td>2</td>\n",
       "      <td>1</td>\n",
       "      <td>40</td>\n",
       "      <td>38</td>\n",
       "      <td>&lt;=50K</td>\n",
       "    </tr>\n",
       "    <tr>\n",
       "      <th>4</th>\n",
       "      <td>28</td>\n",
       "      <td>3</td>\n",
       "      <td>338409</td>\n",
       "      <td>9</td>\n",
       "      <td>13</td>\n",
       "      <td>2</td>\n",
       "      <td>9</td>\n",
       "      <td>5</td>\n",
       "      <td>2</td>\n",
       "      <td>0</td>\n",
       "      <td>40</td>\n",
       "      <td>4</td>\n",
       "      <td>&lt;=50K</td>\n",
       "    </tr>\n",
       "  </tbody>\n",
       "</table>\n",
       "</div>"
      ],
      "text/plain": [
       "   age  workclass  fnlwgt  education  education-num  marital-status  \\\n",
       "0   39          6   77516          9             13               4   \n",
       "1   50          5   83311          9             13               2   \n",
       "2   38          3  215646         11              9               0   \n",
       "3   53          3  234721          1              7               2   \n",
       "4   28          3  338409          9             13               2   \n",
       "\n",
       "   occupation  relationship  race  sex  hours-per-week  native-country  \\\n",
       "0           0             1     4    1              40              38   \n",
       "1           3             0     4    1              13              38   \n",
       "2           5             1     4    1              40              38   \n",
       "3           5             0     2    1              40              38   \n",
       "4           9             5     2    0              40               4   \n",
       "\n",
       "  annual_income  \n",
       "0         <=50K  \n",
       "1         <=50K  \n",
       "2         <=50K  \n",
       "3         <=50K  \n",
       "4         <=50K  "
      ]
     },
     "execution_count": 56,
     "metadata": {},
     "output_type": "execute_result"
    }
   ],
   "source": [
    "df.head()\n"
   ]
  },
  {
   "cell_type": "code",
   "execution_count": 57,
   "id": "f11488eb",
   "metadata": {},
   "outputs": [],
   "source": [
    "# CHECKING FOR MULTICOLLINEARITY"
   ]
  },
  {
   "cell_type": "code",
   "execution_count": 58,
   "id": "e62fdd0b",
   "metadata": {},
   "outputs": [],
   "source": [
    "from statsmodels.stats.outliers_influence import variance_inflation_factor"
   ]
  },
  {
   "cell_type": "code",
   "execution_count": 59,
   "id": "edf73244",
   "metadata": {},
   "outputs": [],
   "source": [
    "# Assigning X and y variables\n",
    "\n",
    "X = df.iloc[:,:-1] #All columns except the target variable\n"
   ]
  },
  {
   "cell_type": "code",
   "execution_count": 60,
   "id": "54e03931",
   "metadata": {},
   "outputs": [
    {
     "data": {
      "text/html": [
       "<div>\n",
       "<style scoped>\n",
       "    .dataframe tbody tr th:only-of-type {\n",
       "        vertical-align: middle;\n",
       "    }\n",
       "\n",
       "    .dataframe tbody tr th {\n",
       "        vertical-align: top;\n",
       "    }\n",
       "\n",
       "    .dataframe thead th {\n",
       "        text-align: right;\n",
       "    }\n",
       "</style>\n",
       "<table border=\"1\" class=\"dataframe\">\n",
       "  <thead>\n",
       "    <tr style=\"text-align: right;\">\n",
       "      <th></th>\n",
       "      <th>age</th>\n",
       "      <th>workclass</th>\n",
       "      <th>fnlwgt</th>\n",
       "      <th>education</th>\n",
       "      <th>education-num</th>\n",
       "      <th>marital-status</th>\n",
       "      <th>occupation</th>\n",
       "      <th>relationship</th>\n",
       "      <th>race</th>\n",
       "      <th>sex</th>\n",
       "      <th>hours-per-week</th>\n",
       "      <th>native-country</th>\n",
       "    </tr>\n",
       "  </thead>\n",
       "  <tbody>\n",
       "    <tr>\n",
       "      <th>0</th>\n",
       "      <td>39</td>\n",
       "      <td>6</td>\n",
       "      <td>77516</td>\n",
       "      <td>9</td>\n",
       "      <td>13</td>\n",
       "      <td>4</td>\n",
       "      <td>0</td>\n",
       "      <td>1</td>\n",
       "      <td>4</td>\n",
       "      <td>1</td>\n",
       "      <td>40</td>\n",
       "      <td>38</td>\n",
       "    </tr>\n",
       "    <tr>\n",
       "      <th>1</th>\n",
       "      <td>50</td>\n",
       "      <td>5</td>\n",
       "      <td>83311</td>\n",
       "      <td>9</td>\n",
       "      <td>13</td>\n",
       "      <td>2</td>\n",
       "      <td>3</td>\n",
       "      <td>0</td>\n",
       "      <td>4</td>\n",
       "      <td>1</td>\n",
       "      <td>13</td>\n",
       "      <td>38</td>\n",
       "    </tr>\n",
       "    <tr>\n",
       "      <th>2</th>\n",
       "      <td>38</td>\n",
       "      <td>3</td>\n",
       "      <td>215646</td>\n",
       "      <td>11</td>\n",
       "      <td>9</td>\n",
       "      <td>0</td>\n",
       "      <td>5</td>\n",
       "      <td>1</td>\n",
       "      <td>4</td>\n",
       "      <td>1</td>\n",
       "      <td>40</td>\n",
       "      <td>38</td>\n",
       "    </tr>\n",
       "    <tr>\n",
       "      <th>3</th>\n",
       "      <td>53</td>\n",
       "      <td>3</td>\n",
       "      <td>234721</td>\n",
       "      <td>1</td>\n",
       "      <td>7</td>\n",
       "      <td>2</td>\n",
       "      <td>5</td>\n",
       "      <td>0</td>\n",
       "      <td>2</td>\n",
       "      <td>1</td>\n",
       "      <td>40</td>\n",
       "      <td>38</td>\n",
       "    </tr>\n",
       "    <tr>\n",
       "      <th>4</th>\n",
       "      <td>28</td>\n",
       "      <td>3</td>\n",
       "      <td>338409</td>\n",
       "      <td>9</td>\n",
       "      <td>13</td>\n",
       "      <td>2</td>\n",
       "      <td>9</td>\n",
       "      <td>5</td>\n",
       "      <td>2</td>\n",
       "      <td>0</td>\n",
       "      <td>40</td>\n",
       "      <td>4</td>\n",
       "    </tr>\n",
       "    <tr>\n",
       "      <th>...</th>\n",
       "      <td>...</td>\n",
       "      <td>...</td>\n",
       "      <td>...</td>\n",
       "      <td>...</td>\n",
       "      <td>...</td>\n",
       "      <td>...</td>\n",
       "      <td>...</td>\n",
       "      <td>...</td>\n",
       "      <td>...</td>\n",
       "      <td>...</td>\n",
       "      <td>...</td>\n",
       "      <td>...</td>\n",
       "    </tr>\n",
       "    <tr>\n",
       "      <th>32556</th>\n",
       "      <td>27</td>\n",
       "      <td>3</td>\n",
       "      <td>257302</td>\n",
       "      <td>7</td>\n",
       "      <td>12</td>\n",
       "      <td>2</td>\n",
       "      <td>12</td>\n",
       "      <td>5</td>\n",
       "      <td>4</td>\n",
       "      <td>0</td>\n",
       "      <td>38</td>\n",
       "      <td>38</td>\n",
       "    </tr>\n",
       "    <tr>\n",
       "      <th>32557</th>\n",
       "      <td>40</td>\n",
       "      <td>3</td>\n",
       "      <td>154374</td>\n",
       "      <td>11</td>\n",
       "      <td>9</td>\n",
       "      <td>2</td>\n",
       "      <td>6</td>\n",
       "      <td>0</td>\n",
       "      <td>4</td>\n",
       "      <td>1</td>\n",
       "      <td>40</td>\n",
       "      <td>38</td>\n",
       "    </tr>\n",
       "    <tr>\n",
       "      <th>32558</th>\n",
       "      <td>58</td>\n",
       "      <td>3</td>\n",
       "      <td>151910</td>\n",
       "      <td>11</td>\n",
       "      <td>9</td>\n",
       "      <td>6</td>\n",
       "      <td>0</td>\n",
       "      <td>4</td>\n",
       "      <td>4</td>\n",
       "      <td>0</td>\n",
       "      <td>40</td>\n",
       "      <td>38</td>\n",
       "    </tr>\n",
       "    <tr>\n",
       "      <th>32559</th>\n",
       "      <td>22</td>\n",
       "      <td>3</td>\n",
       "      <td>201490</td>\n",
       "      <td>11</td>\n",
       "      <td>9</td>\n",
       "      <td>4</td>\n",
       "      <td>0</td>\n",
       "      <td>3</td>\n",
       "      <td>4</td>\n",
       "      <td>1</td>\n",
       "      <td>20</td>\n",
       "      <td>38</td>\n",
       "    </tr>\n",
       "    <tr>\n",
       "      <th>32560</th>\n",
       "      <td>52</td>\n",
       "      <td>4</td>\n",
       "      <td>287927</td>\n",
       "      <td>11</td>\n",
       "      <td>9</td>\n",
       "      <td>2</td>\n",
       "      <td>3</td>\n",
       "      <td>5</td>\n",
       "      <td>4</td>\n",
       "      <td>0</td>\n",
       "      <td>40</td>\n",
       "      <td>38</td>\n",
       "    </tr>\n",
       "  </tbody>\n",
       "</table>\n",
       "<p>32537 rows × 12 columns</p>\n",
       "</div>"
      ],
      "text/plain": [
       "       age  workclass  fnlwgt  education  education-num  marital-status  \\\n",
       "0       39          6   77516          9             13               4   \n",
       "1       50          5   83311          9             13               2   \n",
       "2       38          3  215646         11              9               0   \n",
       "3       53          3  234721          1              7               2   \n",
       "4       28          3  338409          9             13               2   \n",
       "...    ...        ...     ...        ...            ...             ...   \n",
       "32556   27          3  257302          7             12               2   \n",
       "32557   40          3  154374         11              9               2   \n",
       "32558   58          3  151910         11              9               6   \n",
       "32559   22          3  201490         11              9               4   \n",
       "32560   52          4  287927         11              9               2   \n",
       "\n",
       "       occupation  relationship  race  sex  hours-per-week  native-country  \n",
       "0               0             1     4    1              40              38  \n",
       "1               3             0     4    1              13              38  \n",
       "2               5             1     4    1              40              38  \n",
       "3               5             0     2    1              40              38  \n",
       "4               9             5     2    0              40               4  \n",
       "...           ...           ...   ...  ...             ...             ...  \n",
       "32556          12             5     4    0              38              38  \n",
       "32557           6             0     4    1              40              38  \n",
       "32558           0             4     4    0              40              38  \n",
       "32559           0             3     4    1              20              38  \n",
       "32560           3             5     4    0              40              38  \n",
       "\n",
       "[32537 rows x 12 columns]"
      ]
     },
     "execution_count": 60,
     "metadata": {},
     "output_type": "execute_result"
    }
   ],
   "source": [
    "X"
   ]
  },
  {
   "cell_type": "code",
   "execution_count": 61,
   "id": "9d164b24",
   "metadata": {},
   "outputs": [],
   "source": [
    "# Target variable (Annual Income )\n",
    "\n",
    "y = df.iloc[:, -1]"
   ]
  },
  {
   "cell_type": "code",
   "execution_count": 62,
   "id": "4e38cd28",
   "metadata": {},
   "outputs": [
    {
     "data": {
      "text/plain": [
       "0        <=50K\n",
       "1        <=50K\n",
       "2        <=50K\n",
       "3        <=50K\n",
       "4        <=50K\n",
       "         ...  \n",
       "32556    <=50K\n",
       "32557     >50K\n",
       "32558    <=50K\n",
       "32559    <=50K\n",
       "32560     >50K\n",
       "Name: annual_income, Length: 32537, dtype: object"
      ]
     },
     "execution_count": 62,
     "metadata": {},
     "output_type": "execute_result"
    }
   ],
   "source": [
    "y"
   ]
  },
  {
   "cell_type": "code",
   "execution_count": 63,
   "id": "4958ee48",
   "metadata": {},
   "outputs": [
    {
     "data": {
      "text/html": [
       "<div>\n",
       "<style scoped>\n",
       "    .dataframe tbody tr th:only-of-type {\n",
       "        vertical-align: middle;\n",
       "    }\n",
       "\n",
       "    .dataframe tbody tr th {\n",
       "        vertical-align: top;\n",
       "    }\n",
       "\n",
       "    .dataframe thead th {\n",
       "        text-align: right;\n",
       "    }\n",
       "</style>\n",
       "<table border=\"1\" class=\"dataframe\">\n",
       "  <thead>\n",
       "    <tr style=\"text-align: right;\">\n",
       "      <th></th>\n",
       "      <th>Columns</th>\n",
       "      <th>VIF</th>\n",
       "    </tr>\n",
       "  </thead>\n",
       "  <tbody>\n",
       "    <tr>\n",
       "      <th>0</th>\n",
       "      <td>age</td>\n",
       "      <td>8.831839</td>\n",
       "    </tr>\n",
       "    <tr>\n",
       "      <th>1</th>\n",
       "      <td>workclass</td>\n",
       "      <td>8.430390</td>\n",
       "    </tr>\n",
       "    <tr>\n",
       "      <th>2</th>\n",
       "      <td>fnlwgt</td>\n",
       "      <td>4.041228</td>\n",
       "    </tr>\n",
       "    <tr>\n",
       "      <th>3</th>\n",
       "      <td>education</td>\n",
       "      <td>9.225118</td>\n",
       "    </tr>\n",
       "    <tr>\n",
       "      <th>4</th>\n",
       "      <td>education-num</td>\n",
       "      <td>18.487404</td>\n",
       "    </tr>\n",
       "    <tr>\n",
       "      <th>5</th>\n",
       "      <td>marital-status</td>\n",
       "      <td>4.074711</td>\n",
       "    </tr>\n",
       "    <tr>\n",
       "      <th>6</th>\n",
       "      <td>occupation</td>\n",
       "      <td>3.385768</td>\n",
       "    </tr>\n",
       "    <tr>\n",
       "      <th>7</th>\n",
       "      <td>relationship</td>\n",
       "      <td>2.669907</td>\n",
       "    </tr>\n",
       "    <tr>\n",
       "      <th>8</th>\n",
       "      <td>race</td>\n",
       "      <td>17.891689</td>\n",
       "    </tr>\n",
       "    <tr>\n",
       "      <th>9</th>\n",
       "      <td>sex</td>\n",
       "      <td>4.498869</td>\n",
       "    </tr>\n",
       "    <tr>\n",
       "      <th>10</th>\n",
       "      <td>hours-per-week</td>\n",
       "      <td>11.983421</td>\n",
       "    </tr>\n",
       "    <tr>\n",
       "      <th>11</th>\n",
       "      <td>native-country</td>\n",
       "      <td>28.697181</td>\n",
       "    </tr>\n",
       "  </tbody>\n",
       "</table>\n",
       "</div>"
      ],
      "text/plain": [
       "           Columns        VIF\n",
       "0              age   8.831839\n",
       "1        workclass   8.430390\n",
       "2           fnlwgt   4.041228\n",
       "3        education   9.225118\n",
       "4    education-num  18.487404\n",
       "5   marital-status   4.074711\n",
       "6       occupation   3.385768\n",
       "7     relationship   2.669907\n",
       "8             race  17.891689\n",
       "9              sex   4.498869\n",
       "10  hours-per-week  11.983421\n",
       "11  native-country  28.697181"
      ]
     },
     "execution_count": 63,
     "metadata": {},
     "output_type": "execute_result"
    }
   ],
   "source": [
    "# GENERATING THE VIF FOR ALL THE COLUMNS\n",
    "\n",
    "vif = pd.DataFrame()\n",
    "vif['Columns']=X.columns\n",
    "vif['VIF']=[variance_inflation_factor(X.values,i) for i in range(len(X.columns))]\n",
    "vif\n",
    "\n",
    "\n",
    "# Removing the columns one by one with the highest VIF indicating high mulitcolinearity"
   ]
  },
  {
   "cell_type": "code",
   "execution_count": 64,
   "id": "29685393",
   "metadata": {},
   "outputs": [],
   "source": [
    "X.drop(['native-country'], axis =1, inplace = True)"
   ]
  },
  {
   "cell_type": "code",
   "execution_count": 65,
   "id": "bd78cd56",
   "metadata": {},
   "outputs": [
    {
     "data": {
      "text/html": [
       "<div>\n",
       "<style scoped>\n",
       "    .dataframe tbody tr th:only-of-type {\n",
       "        vertical-align: middle;\n",
       "    }\n",
       "\n",
       "    .dataframe tbody tr th {\n",
       "        vertical-align: top;\n",
       "    }\n",
       "\n",
       "    .dataframe thead th {\n",
       "        text-align: right;\n",
       "    }\n",
       "</style>\n",
       "<table border=\"1\" class=\"dataframe\">\n",
       "  <thead>\n",
       "    <tr style=\"text-align: right;\">\n",
       "      <th></th>\n",
       "      <th>age</th>\n",
       "      <th>workclass</th>\n",
       "      <th>fnlwgt</th>\n",
       "      <th>education</th>\n",
       "      <th>education-num</th>\n",
       "      <th>marital-status</th>\n",
       "      <th>occupation</th>\n",
       "      <th>relationship</th>\n",
       "      <th>race</th>\n",
       "      <th>sex</th>\n",
       "      <th>hours-per-week</th>\n",
       "    </tr>\n",
       "  </thead>\n",
       "  <tbody>\n",
       "    <tr>\n",
       "      <th>0</th>\n",
       "      <td>39</td>\n",
       "      <td>6</td>\n",
       "      <td>77516</td>\n",
       "      <td>9</td>\n",
       "      <td>13</td>\n",
       "      <td>4</td>\n",
       "      <td>0</td>\n",
       "      <td>1</td>\n",
       "      <td>4</td>\n",
       "      <td>1</td>\n",
       "      <td>40</td>\n",
       "    </tr>\n",
       "    <tr>\n",
       "      <th>1</th>\n",
       "      <td>50</td>\n",
       "      <td>5</td>\n",
       "      <td>83311</td>\n",
       "      <td>9</td>\n",
       "      <td>13</td>\n",
       "      <td>2</td>\n",
       "      <td>3</td>\n",
       "      <td>0</td>\n",
       "      <td>4</td>\n",
       "      <td>1</td>\n",
       "      <td>13</td>\n",
       "    </tr>\n",
       "    <tr>\n",
       "      <th>2</th>\n",
       "      <td>38</td>\n",
       "      <td>3</td>\n",
       "      <td>215646</td>\n",
       "      <td>11</td>\n",
       "      <td>9</td>\n",
       "      <td>0</td>\n",
       "      <td>5</td>\n",
       "      <td>1</td>\n",
       "      <td>4</td>\n",
       "      <td>1</td>\n",
       "      <td>40</td>\n",
       "    </tr>\n",
       "    <tr>\n",
       "      <th>3</th>\n",
       "      <td>53</td>\n",
       "      <td>3</td>\n",
       "      <td>234721</td>\n",
       "      <td>1</td>\n",
       "      <td>7</td>\n",
       "      <td>2</td>\n",
       "      <td>5</td>\n",
       "      <td>0</td>\n",
       "      <td>2</td>\n",
       "      <td>1</td>\n",
       "      <td>40</td>\n",
       "    </tr>\n",
       "    <tr>\n",
       "      <th>4</th>\n",
       "      <td>28</td>\n",
       "      <td>3</td>\n",
       "      <td>338409</td>\n",
       "      <td>9</td>\n",
       "      <td>13</td>\n",
       "      <td>2</td>\n",
       "      <td>9</td>\n",
       "      <td>5</td>\n",
       "      <td>2</td>\n",
       "      <td>0</td>\n",
       "      <td>40</td>\n",
       "    </tr>\n",
       "  </tbody>\n",
       "</table>\n",
       "</div>"
      ],
      "text/plain": [
       "   age  workclass  fnlwgt  education  education-num  marital-status  \\\n",
       "0   39          6   77516          9             13               4   \n",
       "1   50          5   83311          9             13               2   \n",
       "2   38          3  215646         11              9               0   \n",
       "3   53          3  234721          1              7               2   \n",
       "4   28          3  338409          9             13               2   \n",
       "\n",
       "   occupation  relationship  race  sex  hours-per-week  \n",
       "0           0             1     4    1              40  \n",
       "1           3             0     4    1              13  \n",
       "2           5             1     4    1              40  \n",
       "3           5             0     2    1              40  \n",
       "4           9             5     2    0              40  "
      ]
     },
     "execution_count": 65,
     "metadata": {},
     "output_type": "execute_result"
    }
   ],
   "source": [
    "X.head()"
   ]
  },
  {
   "cell_type": "code",
   "execution_count": 66,
   "id": "5bded22d",
   "metadata": {},
   "outputs": [
    {
     "data": {
      "text/html": [
       "<div>\n",
       "<style scoped>\n",
       "    .dataframe tbody tr th:only-of-type {\n",
       "        vertical-align: middle;\n",
       "    }\n",
       "\n",
       "    .dataframe tbody tr th {\n",
       "        vertical-align: top;\n",
       "    }\n",
       "\n",
       "    .dataframe thead th {\n",
       "        text-align: right;\n",
       "    }\n",
       "</style>\n",
       "<table border=\"1\" class=\"dataframe\">\n",
       "  <thead>\n",
       "    <tr style=\"text-align: right;\">\n",
       "      <th></th>\n",
       "      <th>Columns</th>\n",
       "      <th>VIF</th>\n",
       "    </tr>\n",
       "  </thead>\n",
       "  <tbody>\n",
       "    <tr>\n",
       "      <th>0</th>\n",
       "      <td>age</td>\n",
       "      <td>8.372267</td>\n",
       "    </tr>\n",
       "    <tr>\n",
       "      <th>1</th>\n",
       "      <td>workclass</td>\n",
       "      <td>8.299314</td>\n",
       "    </tr>\n",
       "    <tr>\n",
       "      <th>2</th>\n",
       "      <td>fnlwgt</td>\n",
       "      <td>4.018980</td>\n",
       "    </tr>\n",
       "    <tr>\n",
       "      <th>3</th>\n",
       "      <td>education</td>\n",
       "      <td>9.084041</td>\n",
       "    </tr>\n",
       "    <tr>\n",
       "      <th>4</th>\n",
       "      <td>education-num</td>\n",
       "      <td>17.644308</td>\n",
       "    </tr>\n",
       "    <tr>\n",
       "      <th>5</th>\n",
       "      <td>marital-status</td>\n",
       "      <td>3.947687</td>\n",
       "    </tr>\n",
       "    <tr>\n",
       "      <th>6</th>\n",
       "      <td>occupation</td>\n",
       "      <td>3.369935</td>\n",
       "    </tr>\n",
       "    <tr>\n",
       "      <th>7</th>\n",
       "      <td>relationship</td>\n",
       "      <td>2.539896</td>\n",
       "    </tr>\n",
       "    <tr>\n",
       "      <th>8</th>\n",
       "      <td>race</td>\n",
       "      <td>15.696276</td>\n",
       "    </tr>\n",
       "    <tr>\n",
       "      <th>9</th>\n",
       "      <td>sex</td>\n",
       "      <td>4.426741</td>\n",
       "    </tr>\n",
       "    <tr>\n",
       "      <th>10</th>\n",
       "      <td>hours-per-week</td>\n",
       "      <td>11.639383</td>\n",
       "    </tr>\n",
       "  </tbody>\n",
       "</table>\n",
       "</div>"
      ],
      "text/plain": [
       "           Columns        VIF\n",
       "0              age   8.372267\n",
       "1        workclass   8.299314\n",
       "2           fnlwgt   4.018980\n",
       "3        education   9.084041\n",
       "4    education-num  17.644308\n",
       "5   marital-status   3.947687\n",
       "6       occupation   3.369935\n",
       "7     relationship   2.539896\n",
       "8             race  15.696276\n",
       "9              sex   4.426741\n",
       "10  hours-per-week  11.639383"
      ]
     },
     "execution_count": 66,
     "metadata": {},
     "output_type": "execute_result"
    }
   ],
   "source": [
    "vif = pd.DataFrame()\n",
    "vif['Columns']=X.columns\n",
    "vif['VIF']=[variance_inflation_factor(X.values,i) for i in range(len(X.columns))]\n",
    "vif"
   ]
  },
  {
   "cell_type": "code",
   "execution_count": 67,
   "id": "4c19c1a0",
   "metadata": {},
   "outputs": [],
   "source": [
    "X.drop(['education-num'], axis =1, inplace = True)"
   ]
  },
  {
   "cell_type": "code",
   "execution_count": 68,
   "id": "e412c00b",
   "metadata": {},
   "outputs": [
    {
     "data": {
      "text/html": [
       "<div>\n",
       "<style scoped>\n",
       "    .dataframe tbody tr th:only-of-type {\n",
       "        vertical-align: middle;\n",
       "    }\n",
       "\n",
       "    .dataframe tbody tr th {\n",
       "        vertical-align: top;\n",
       "    }\n",
       "\n",
       "    .dataframe thead th {\n",
       "        text-align: right;\n",
       "    }\n",
       "</style>\n",
       "<table border=\"1\" class=\"dataframe\">\n",
       "  <thead>\n",
       "    <tr style=\"text-align: right;\">\n",
       "      <th></th>\n",
       "      <th>Columns</th>\n",
       "      <th>VIF</th>\n",
       "    </tr>\n",
       "  </thead>\n",
       "  <tbody>\n",
       "    <tr>\n",
       "      <th>0</th>\n",
       "      <td>age</td>\n",
       "      <td>8.143651</td>\n",
       "    </tr>\n",
       "    <tr>\n",
       "      <th>1</th>\n",
       "      <td>workclass</td>\n",
       "      <td>8.247475</td>\n",
       "    </tr>\n",
       "    <tr>\n",
       "      <th>2</th>\n",
       "      <td>fnlwgt</td>\n",
       "      <td>4.009030</td>\n",
       "    </tr>\n",
       "    <tr>\n",
       "      <th>3</th>\n",
       "      <td>education</td>\n",
       "      <td>7.359653</td>\n",
       "    </tr>\n",
       "    <tr>\n",
       "      <th>4</th>\n",
       "      <td>marital-status</td>\n",
       "      <td>3.912860</td>\n",
       "    </tr>\n",
       "    <tr>\n",
       "      <th>5</th>\n",
       "      <td>occupation</td>\n",
       "      <td>3.296378</td>\n",
       "    </tr>\n",
       "    <tr>\n",
       "      <th>6</th>\n",
       "      <td>relationship</td>\n",
       "      <td>2.530851</td>\n",
       "    </tr>\n",
       "    <tr>\n",
       "      <th>7</th>\n",
       "      <td>race</td>\n",
       "      <td>15.123394</td>\n",
       "    </tr>\n",
       "    <tr>\n",
       "      <th>8</th>\n",
       "      <td>sex</td>\n",
       "      <td>4.424527</td>\n",
       "    </tr>\n",
       "    <tr>\n",
       "      <th>9</th>\n",
       "      <td>hours-per-week</td>\n",
       "      <td>10.894861</td>\n",
       "    </tr>\n",
       "  </tbody>\n",
       "</table>\n",
       "</div>"
      ],
      "text/plain": [
       "          Columns        VIF\n",
       "0             age   8.143651\n",
       "1       workclass   8.247475\n",
       "2          fnlwgt   4.009030\n",
       "3       education   7.359653\n",
       "4  marital-status   3.912860\n",
       "5      occupation   3.296378\n",
       "6    relationship   2.530851\n",
       "7            race  15.123394\n",
       "8             sex   4.424527\n",
       "9  hours-per-week  10.894861"
      ]
     },
     "execution_count": 68,
     "metadata": {},
     "output_type": "execute_result"
    }
   ],
   "source": [
    "vif = pd.DataFrame()\n",
    "vif['Columns']=X.columns\n",
    "vif['VIF']=[variance_inflation_factor(X.values,i) for i in range(len(X.columns))]\n",
    "vif"
   ]
  },
  {
   "cell_type": "code",
   "execution_count": 69,
   "id": "928b0e41",
   "metadata": {},
   "outputs": [],
   "source": [
    "X.drop(['race'], axis =1, inplace = True)"
   ]
  },
  {
   "cell_type": "code",
   "execution_count": 70,
   "id": "6d38d88e",
   "metadata": {},
   "outputs": [
    {
     "data": {
      "text/html": [
       "<div>\n",
       "<style scoped>\n",
       "    .dataframe tbody tr th:only-of-type {\n",
       "        vertical-align: middle;\n",
       "    }\n",
       "\n",
       "    .dataframe tbody tr th {\n",
       "        vertical-align: top;\n",
       "    }\n",
       "\n",
       "    .dataframe thead th {\n",
       "        text-align: right;\n",
       "    }\n",
       "</style>\n",
       "<table border=\"1\" class=\"dataframe\">\n",
       "  <thead>\n",
       "    <tr style=\"text-align: right;\">\n",
       "      <th></th>\n",
       "      <th>Columns</th>\n",
       "      <th>VIF</th>\n",
       "    </tr>\n",
       "  </thead>\n",
       "  <tbody>\n",
       "    <tr>\n",
       "      <th>0</th>\n",
       "      <td>age</td>\n",
       "      <td>7.499685</td>\n",
       "    </tr>\n",
       "    <tr>\n",
       "      <th>1</th>\n",
       "      <td>workclass</td>\n",
       "      <td>7.894958</td>\n",
       "    </tr>\n",
       "    <tr>\n",
       "      <th>2</th>\n",
       "      <td>fnlwgt</td>\n",
       "      <td>3.949205</td>\n",
       "    </tr>\n",
       "    <tr>\n",
       "      <th>3</th>\n",
       "      <td>education</td>\n",
       "      <td>7.064418</td>\n",
       "    </tr>\n",
       "    <tr>\n",
       "      <th>4</th>\n",
       "      <td>marital-status</td>\n",
       "      <td>3.805420</td>\n",
       "    </tr>\n",
       "    <tr>\n",
       "      <th>5</th>\n",
       "      <td>occupation</td>\n",
       "      <td>3.265895</td>\n",
       "    </tr>\n",
       "    <tr>\n",
       "      <th>6</th>\n",
       "      <td>relationship</td>\n",
       "      <td>2.465095</td>\n",
       "    </tr>\n",
       "    <tr>\n",
       "      <th>7</th>\n",
       "      <td>sex</td>\n",
       "      <td>4.299760</td>\n",
       "    </tr>\n",
       "    <tr>\n",
       "      <th>8</th>\n",
       "      <td>hours-per-week</td>\n",
       "      <td>10.202086</td>\n",
       "    </tr>\n",
       "  </tbody>\n",
       "</table>\n",
       "</div>"
      ],
      "text/plain": [
       "          Columns        VIF\n",
       "0             age   7.499685\n",
       "1       workclass   7.894958\n",
       "2          fnlwgt   3.949205\n",
       "3       education   7.064418\n",
       "4  marital-status   3.805420\n",
       "5      occupation   3.265895\n",
       "6    relationship   2.465095\n",
       "7             sex   4.299760\n",
       "8  hours-per-week  10.202086"
      ]
     },
     "execution_count": 70,
     "metadata": {},
     "output_type": "execute_result"
    }
   ],
   "source": [
    "vif = pd.DataFrame()\n",
    "vif['Columns']=X.columns\n",
    "vif['VIF']=[variance_inflation_factor(X.values,i) for i in range(len(X.columns))]\n",
    "vif"
   ]
  },
  {
   "cell_type": "code",
   "execution_count": 71,
   "id": "d23438fa",
   "metadata": {},
   "outputs": [],
   "source": [
    "X.drop(['hours-per-week'], axis =1, inplace = True)"
   ]
  },
  {
   "cell_type": "code",
   "execution_count": 72,
   "id": "ee1e2059",
   "metadata": {},
   "outputs": [
    {
     "data": {
      "text/html": [
       "<div>\n",
       "<style scoped>\n",
       "    .dataframe tbody tr th:only-of-type {\n",
       "        vertical-align: middle;\n",
       "    }\n",
       "\n",
       "    .dataframe tbody tr th {\n",
       "        vertical-align: top;\n",
       "    }\n",
       "\n",
       "    .dataframe thead th {\n",
       "        text-align: right;\n",
       "    }\n",
       "</style>\n",
       "<table border=\"1\" class=\"dataframe\">\n",
       "  <thead>\n",
       "    <tr style=\"text-align: right;\">\n",
       "      <th></th>\n",
       "      <th>Columns</th>\n",
       "      <th>VIF</th>\n",
       "    </tr>\n",
       "  </thead>\n",
       "  <tbody>\n",
       "    <tr>\n",
       "      <th>0</th>\n",
       "      <td>age</td>\n",
       "      <td>6.859249</td>\n",
       "    </tr>\n",
       "    <tr>\n",
       "      <th>1</th>\n",
       "      <td>workclass</td>\n",
       "      <td>7.541092</td>\n",
       "    </tr>\n",
       "    <tr>\n",
       "      <th>2</th>\n",
       "      <td>fnlwgt</td>\n",
       "      <td>3.883670</td>\n",
       "    </tr>\n",
       "    <tr>\n",
       "      <th>3</th>\n",
       "      <td>education</td>\n",
       "      <td>6.550903</td>\n",
       "    </tr>\n",
       "    <tr>\n",
       "      <th>4</th>\n",
       "      <td>marital-status</td>\n",
       "      <td>3.798502</td>\n",
       "    </tr>\n",
       "    <tr>\n",
       "      <th>5</th>\n",
       "      <td>occupation</td>\n",
       "      <td>3.240344</td>\n",
       "    </tr>\n",
       "    <tr>\n",
       "      <th>6</th>\n",
       "      <td>relationship</td>\n",
       "      <td>2.445616</td>\n",
       "    </tr>\n",
       "    <tr>\n",
       "      <th>7</th>\n",
       "      <td>sex</td>\n",
       "      <td>3.957112</td>\n",
       "    </tr>\n",
       "  </tbody>\n",
       "</table>\n",
       "</div>"
      ],
      "text/plain": [
       "          Columns       VIF\n",
       "0             age  6.859249\n",
       "1       workclass  7.541092\n",
       "2          fnlwgt  3.883670\n",
       "3       education  6.550903\n",
       "4  marital-status  3.798502\n",
       "5      occupation  3.240344\n",
       "6    relationship  2.445616\n",
       "7             sex  3.957112"
      ]
     },
     "execution_count": 72,
     "metadata": {},
     "output_type": "execute_result"
    }
   ],
   "source": [
    "vif = pd.DataFrame()\n",
    "vif['Columns']=X.columns\n",
    "vif['VIF']=[variance_inflation_factor(X.values,i) for i in range(len(X.columns))]\n",
    "vif"
   ]
  },
  {
   "cell_type": "code",
   "execution_count": 73,
   "id": "ec68753d",
   "metadata": {},
   "outputs": [],
   "source": [
    "# All the VIF values are now below 8, the rest of the features can be retained"
   ]
  },
  {
   "cell_type": "markdown",
   "id": "de0a96e9",
   "metadata": {},
   "source": [
    "# FEATURE SCALING"
   ]
  },
  {
   "cell_type": "markdown",
   "id": "0a7519fe",
   "metadata": {},
   "source": [
    "## The values in the dataset are all of various scales and to standardise, scaling is done with Standard scaler"
   ]
  },
  {
   "cell_type": "code",
   "execution_count": 74,
   "id": "dbdb48de",
   "metadata": {},
   "outputs": [],
   "source": [
    "from sklearn.preprocessing import StandardScaler\n",
    "\n",
    "sc = StandardScaler()"
   ]
  },
  {
   "cell_type": "code",
   "execution_count": 75,
   "id": "ccd9e6ad",
   "metadata": {},
   "outputs": [],
   "source": [
    "# Standardising the values\n",
    "\n",
    "X = pd.DataFrame(sc.fit_transform(X), columns = X.columns)"
   ]
  },
  {
   "cell_type": "code",
   "execution_count": 76,
   "id": "9f972986",
   "metadata": {},
   "outputs": [
    {
     "data": {
      "text/html": [
       "<div>\n",
       "<style scoped>\n",
       "    .dataframe tbody tr th:only-of-type {\n",
       "        vertical-align: middle;\n",
       "    }\n",
       "\n",
       "    .dataframe tbody tr th {\n",
       "        vertical-align: top;\n",
       "    }\n",
       "\n",
       "    .dataframe thead th {\n",
       "        text-align: right;\n",
       "    }\n",
       "</style>\n",
       "<table border=\"1\" class=\"dataframe\">\n",
       "  <thead>\n",
       "    <tr style=\"text-align: right;\">\n",
       "      <th></th>\n",
       "      <th>age</th>\n",
       "      <th>workclass</th>\n",
       "      <th>fnlwgt</th>\n",
       "      <th>education</th>\n",
       "      <th>marital-status</th>\n",
       "      <th>occupation</th>\n",
       "      <th>relationship</th>\n",
       "      <th>sex</th>\n",
       "    </tr>\n",
       "  </thead>\n",
       "  <tbody>\n",
       "    <tr>\n",
       "      <th>0</th>\n",
       "      <td>0.030390</td>\n",
       "      <td>2.623449</td>\n",
       "      <td>-1.063569</td>\n",
       "      <td>-0.335266</td>\n",
       "      <td>0.921857</td>\n",
       "      <td>-1.545209</td>\n",
       "      <td>-0.277864</td>\n",
       "      <td>0.703020</td>\n",
       "    </tr>\n",
       "    <tr>\n",
       "      <th>1</th>\n",
       "      <td>0.836973</td>\n",
       "      <td>1.720541</td>\n",
       "      <td>-1.008668</td>\n",
       "      <td>-0.335266</td>\n",
       "      <td>-0.405919</td>\n",
       "      <td>-0.790133</td>\n",
       "      <td>-0.900126</td>\n",
       "      <td>0.703020</td>\n",
       "    </tr>\n",
       "    <tr>\n",
       "      <th>2</th>\n",
       "      <td>-0.042936</td>\n",
       "      <td>-0.085276</td>\n",
       "      <td>0.245040</td>\n",
       "      <td>0.181519</td>\n",
       "      <td>-1.733696</td>\n",
       "      <td>-0.286749</td>\n",
       "      <td>-0.277864</td>\n",
       "      <td>0.703020</td>\n",
       "    </tr>\n",
       "    <tr>\n",
       "      <th>3</th>\n",
       "      <td>1.056950</td>\n",
       "      <td>-0.085276</td>\n",
       "      <td>0.425752</td>\n",
       "      <td>-2.402406</td>\n",
       "      <td>-0.405919</td>\n",
       "      <td>-0.286749</td>\n",
       "      <td>-0.900126</td>\n",
       "      <td>0.703020</td>\n",
       "    </tr>\n",
       "    <tr>\n",
       "      <th>4</th>\n",
       "      <td>-0.776193</td>\n",
       "      <td>-0.085276</td>\n",
       "      <td>1.408066</td>\n",
       "      <td>-0.335266</td>\n",
       "      <td>-0.405919</td>\n",
       "      <td>0.720018</td>\n",
       "      <td>2.211186</td>\n",
       "      <td>-1.422436</td>\n",
       "    </tr>\n",
       "    <tr>\n",
       "      <th>...</th>\n",
       "      <td>...</td>\n",
       "      <td>...</td>\n",
       "      <td>...</td>\n",
       "      <td>...</td>\n",
       "      <td>...</td>\n",
       "      <td>...</td>\n",
       "      <td>...</td>\n",
       "      <td>...</td>\n",
       "    </tr>\n",
       "    <tr>\n",
       "      <th>32532</th>\n",
       "      <td>-0.849519</td>\n",
       "      <td>-0.085276</td>\n",
       "      <td>0.639678</td>\n",
       "      <td>-0.852051</td>\n",
       "      <td>-0.405919</td>\n",
       "      <td>1.475094</td>\n",
       "      <td>2.211186</td>\n",
       "      <td>-1.422436</td>\n",
       "    </tr>\n",
       "    <tr>\n",
       "      <th>32533</th>\n",
       "      <td>0.103716</td>\n",
       "      <td>-0.085276</td>\n",
       "      <td>-0.335436</td>\n",
       "      <td>0.181519</td>\n",
       "      <td>-0.405919</td>\n",
       "      <td>-0.035058</td>\n",
       "      <td>-0.900126</td>\n",
       "      <td>0.703020</td>\n",
       "    </tr>\n",
       "    <tr>\n",
       "      <th>32534</th>\n",
       "      <td>1.423579</td>\n",
       "      <td>-0.085276</td>\n",
       "      <td>-0.358779</td>\n",
       "      <td>0.181519</td>\n",
       "      <td>2.249634</td>\n",
       "      <td>-1.545209</td>\n",
       "      <td>1.588923</td>\n",
       "      <td>-1.422436</td>\n",
       "    </tr>\n",
       "    <tr>\n",
       "      <th>32535</th>\n",
       "      <td>-1.216148</td>\n",
       "      <td>-0.085276</td>\n",
       "      <td>0.110930</td>\n",
       "      <td>0.181519</td>\n",
       "      <td>0.921857</td>\n",
       "      <td>-1.545209</td>\n",
       "      <td>0.966661</td>\n",
       "      <td>0.703020</td>\n",
       "    </tr>\n",
       "    <tr>\n",
       "      <th>32536</th>\n",
       "      <td>0.983625</td>\n",
       "      <td>0.817632</td>\n",
       "      <td>0.929812</td>\n",
       "      <td>0.181519</td>\n",
       "      <td>-0.405919</td>\n",
       "      <td>-0.790133</td>\n",
       "      <td>2.211186</td>\n",
       "      <td>-1.422436</td>\n",
       "    </tr>\n",
       "  </tbody>\n",
       "</table>\n",
       "<p>32537 rows × 8 columns</p>\n",
       "</div>"
      ],
      "text/plain": [
       "            age  workclass    fnlwgt  education  marital-status  occupation  \\\n",
       "0      0.030390   2.623449 -1.063569  -0.335266        0.921857   -1.545209   \n",
       "1      0.836973   1.720541 -1.008668  -0.335266       -0.405919   -0.790133   \n",
       "2     -0.042936  -0.085276  0.245040   0.181519       -1.733696   -0.286749   \n",
       "3      1.056950  -0.085276  0.425752  -2.402406       -0.405919   -0.286749   \n",
       "4     -0.776193  -0.085276  1.408066  -0.335266       -0.405919    0.720018   \n",
       "...         ...        ...       ...        ...             ...         ...   \n",
       "32532 -0.849519  -0.085276  0.639678  -0.852051       -0.405919    1.475094   \n",
       "32533  0.103716  -0.085276 -0.335436   0.181519       -0.405919   -0.035058   \n",
       "32534  1.423579  -0.085276 -0.358779   0.181519        2.249634   -1.545209   \n",
       "32535 -1.216148  -0.085276  0.110930   0.181519        0.921857   -1.545209   \n",
       "32536  0.983625   0.817632  0.929812   0.181519       -0.405919   -0.790133   \n",
       "\n",
       "       relationship       sex  \n",
       "0         -0.277864  0.703020  \n",
       "1         -0.900126  0.703020  \n",
       "2         -0.277864  0.703020  \n",
       "3         -0.900126  0.703020  \n",
       "4          2.211186 -1.422436  \n",
       "...             ...       ...  \n",
       "32532      2.211186 -1.422436  \n",
       "32533     -0.900126  0.703020  \n",
       "32534      1.588923 -1.422436  \n",
       "32535      0.966661  0.703020  \n",
       "32536      2.211186 -1.422436  \n",
       "\n",
       "[32537 rows x 8 columns]"
      ]
     },
     "execution_count": 76,
     "metadata": {},
     "output_type": "execute_result"
    }
   ],
   "source": [
    "X"
   ]
  },
  {
   "cell_type": "code",
   "execution_count": 77,
   "id": "f4b7b8e2",
   "metadata": {},
   "outputs": [],
   "source": [
    "# SPLITTING THE DATA\n",
    "\n",
    "from sklearn.model_selection import train_test_split\n",
    "\n",
    "X_train, X_test, y_train, y_test = train_test_split(X,y, test_size = 0.3, random_state = 1)"
   ]
  },
  {
   "cell_type": "code",
   "execution_count": 78,
   "id": "03d6f982",
   "metadata": {},
   "outputs": [
    {
     "data": {
      "text/html": [
       "<div>\n",
       "<style scoped>\n",
       "    .dataframe tbody tr th:only-of-type {\n",
       "        vertical-align: middle;\n",
       "    }\n",
       "\n",
       "    .dataframe tbody tr th {\n",
       "        vertical-align: top;\n",
       "    }\n",
       "\n",
       "    .dataframe thead th {\n",
       "        text-align: right;\n",
       "    }\n",
       "</style>\n",
       "<table border=\"1\" class=\"dataframe\">\n",
       "  <thead>\n",
       "    <tr style=\"text-align: right;\">\n",
       "      <th></th>\n",
       "      <th>age</th>\n",
       "      <th>workclass</th>\n",
       "      <th>fnlwgt</th>\n",
       "      <th>education</th>\n",
       "      <th>marital-status</th>\n",
       "      <th>occupation</th>\n",
       "      <th>relationship</th>\n",
       "      <th>sex</th>\n",
       "    </tr>\n",
       "  </thead>\n",
       "  <tbody>\n",
       "    <tr>\n",
       "      <th>20792</th>\n",
       "      <td>0.323693</td>\n",
       "      <td>0.817632</td>\n",
       "      <td>0.522611</td>\n",
       "      <td>-0.335266</td>\n",
       "      <td>-0.405919</td>\n",
       "      <td>0.720018</td>\n",
       "      <td>-0.900126</td>\n",
       "      <td>0.703020</td>\n",
       "    </tr>\n",
       "    <tr>\n",
       "      <th>14889</th>\n",
       "      <td>0.836973</td>\n",
       "      <td>-0.085276</td>\n",
       "      <td>-0.569447</td>\n",
       "      <td>-0.335266</td>\n",
       "      <td>-1.733696</td>\n",
       "      <td>-0.790133</td>\n",
       "      <td>-0.277864</td>\n",
       "      <td>-1.422436</td>\n",
       "    </tr>\n",
       "    <tr>\n",
       "      <th>21098</th>\n",
       "      <td>-0.409565</td>\n",
       "      <td>-0.085276</td>\n",
       "      <td>-0.128804</td>\n",
       "      <td>-2.144013</td>\n",
       "      <td>-1.733696</td>\n",
       "      <td>-1.041825</td>\n",
       "      <td>-0.277864</td>\n",
       "      <td>0.703020</td>\n",
       "    </tr>\n",
       "    <tr>\n",
       "      <th>21534</th>\n",
       "      <td>-1.582777</td>\n",
       "      <td>-0.085276</td>\n",
       "      <td>0.485436</td>\n",
       "      <td>-2.144013</td>\n",
       "      <td>0.921857</td>\n",
       "      <td>0.720018</td>\n",
       "      <td>0.966661</td>\n",
       "      <td>-1.422436</td>\n",
       "    </tr>\n",
       "    <tr>\n",
       "      <th>745</th>\n",
       "      <td>0.250367</td>\n",
       "      <td>-1.891093</td>\n",
       "      <td>-0.601222</td>\n",
       "      <td>-0.335266</td>\n",
       "      <td>-0.405919</td>\n",
       "      <td>0.720018</td>\n",
       "      <td>2.211186</td>\n",
       "      <td>-1.422436</td>\n",
       "    </tr>\n",
       "    <tr>\n",
       "      <th>...</th>\n",
       "      <td>...</td>\n",
       "      <td>...</td>\n",
       "      <td>...</td>\n",
       "      <td>...</td>\n",
       "      <td>...</td>\n",
       "      <td>...</td>\n",
       "      <td>...</td>\n",
       "      <td>...</td>\n",
       "    </tr>\n",
       "    <tr>\n",
       "      <th>32511</th>\n",
       "      <td>-1.216148</td>\n",
       "      <td>-0.085276</td>\n",
       "      <td>1.281345</td>\n",
       "      <td>-2.144013</td>\n",
       "      <td>0.921857</td>\n",
       "      <td>0.971710</td>\n",
       "      <td>0.966661</td>\n",
       "      <td>0.703020</td>\n",
       "    </tr>\n",
       "    <tr>\n",
       "      <th>5192</th>\n",
       "      <td>-0.042936</td>\n",
       "      <td>-0.085276</td>\n",
       "      <td>0.340355</td>\n",
       "      <td>0.181519</td>\n",
       "      <td>-0.405919</td>\n",
       "      <td>-0.035058</td>\n",
       "      <td>-0.900126</td>\n",
       "      <td>0.703020</td>\n",
       "    </tr>\n",
       "    <tr>\n",
       "      <th>12172</th>\n",
       "      <td>-0.629542</td>\n",
       "      <td>-0.085276</td>\n",
       "      <td>-0.208336</td>\n",
       "      <td>0.181519</td>\n",
       "      <td>0.921857</td>\n",
       "      <td>-1.545209</td>\n",
       "      <td>0.966661</td>\n",
       "      <td>-1.422436</td>\n",
       "    </tr>\n",
       "    <tr>\n",
       "      <th>235</th>\n",
       "      <td>1.496905</td>\n",
       "      <td>2.623449</td>\n",
       "      <td>0.747660</td>\n",
       "      <td>0.181519</td>\n",
       "      <td>-0.405919</td>\n",
       "      <td>0.216634</td>\n",
       "      <td>-0.900126</td>\n",
       "      <td>0.703020</td>\n",
       "    </tr>\n",
       "    <tr>\n",
       "      <th>29733</th>\n",
       "      <td>0.690322</td>\n",
       "      <td>-0.085276</td>\n",
       "      <td>1.208653</td>\n",
       "      <td>1.215089</td>\n",
       "      <td>-1.733696</td>\n",
       "      <td>-1.545209</td>\n",
       "      <td>-0.277864</td>\n",
       "      <td>-1.422436</td>\n",
       "    </tr>\n",
       "  </tbody>\n",
       "</table>\n",
       "<p>22775 rows × 8 columns</p>\n",
       "</div>"
      ],
      "text/plain": [
       "            age  workclass    fnlwgt  education  marital-status  occupation  \\\n",
       "20792  0.323693   0.817632  0.522611  -0.335266       -0.405919    0.720018   \n",
       "14889  0.836973  -0.085276 -0.569447  -0.335266       -1.733696   -0.790133   \n",
       "21098 -0.409565  -0.085276 -0.128804  -2.144013       -1.733696   -1.041825   \n",
       "21534 -1.582777  -0.085276  0.485436  -2.144013        0.921857    0.720018   \n",
       "745    0.250367  -1.891093 -0.601222  -0.335266       -0.405919    0.720018   \n",
       "...         ...        ...       ...        ...             ...         ...   \n",
       "32511 -1.216148  -0.085276  1.281345  -2.144013        0.921857    0.971710   \n",
       "5192  -0.042936  -0.085276  0.340355   0.181519       -0.405919   -0.035058   \n",
       "12172 -0.629542  -0.085276 -0.208336   0.181519        0.921857   -1.545209   \n",
       "235    1.496905   2.623449  0.747660   0.181519       -0.405919    0.216634   \n",
       "29733  0.690322  -0.085276  1.208653   1.215089       -1.733696   -1.545209   \n",
       "\n",
       "       relationship       sex  \n",
       "20792     -0.900126  0.703020  \n",
       "14889     -0.277864 -1.422436  \n",
       "21098     -0.277864  0.703020  \n",
       "21534      0.966661 -1.422436  \n",
       "745        2.211186 -1.422436  \n",
       "...             ...       ...  \n",
       "32511      0.966661  0.703020  \n",
       "5192      -0.900126  0.703020  \n",
       "12172      0.966661 -1.422436  \n",
       "235       -0.900126  0.703020  \n",
       "29733     -0.277864 -1.422436  \n",
       "\n",
       "[22775 rows x 8 columns]"
      ]
     },
     "execution_count": 78,
     "metadata": {},
     "output_type": "execute_result"
    }
   ],
   "source": [
    "# Checking for the rows in Train and test\n",
    "\n",
    "X_train"
   ]
  },
  {
   "cell_type": "code",
   "execution_count": 79,
   "id": "3ea64080",
   "metadata": {},
   "outputs": [
    {
     "data": {
      "text/html": [
       "<div>\n",
       "<style scoped>\n",
       "    .dataframe tbody tr th:only-of-type {\n",
       "        vertical-align: middle;\n",
       "    }\n",
       "\n",
       "    .dataframe tbody tr th {\n",
       "        vertical-align: top;\n",
       "    }\n",
       "\n",
       "    .dataframe thead th {\n",
       "        text-align: right;\n",
       "    }\n",
       "</style>\n",
       "<table border=\"1\" class=\"dataframe\">\n",
       "  <thead>\n",
       "    <tr style=\"text-align: right;\">\n",
       "      <th></th>\n",
       "      <th>age</th>\n",
       "      <th>workclass</th>\n",
       "      <th>fnlwgt</th>\n",
       "      <th>education</th>\n",
       "      <th>marital-status</th>\n",
       "      <th>occupation</th>\n",
       "      <th>relationship</th>\n",
       "      <th>sex</th>\n",
       "    </tr>\n",
       "  </thead>\n",
       "  <tbody>\n",
       "    <tr>\n",
       "      <th>12576</th>\n",
       "      <td>1.936859</td>\n",
       "      <td>-0.085276</td>\n",
       "      <td>-0.187285</td>\n",
       "      <td>-0.335266</td>\n",
       "      <td>-0.405919</td>\n",
       "      <td>-1.545209</td>\n",
       "      <td>-0.900126</td>\n",
       "      <td>0.703020</td>\n",
       "    </tr>\n",
       "    <tr>\n",
       "      <th>11846</th>\n",
       "      <td>0.250367</td>\n",
       "      <td>2.623449</td>\n",
       "      <td>1.438656</td>\n",
       "      <td>-0.335266</td>\n",
       "      <td>-0.405919</td>\n",
       "      <td>0.720018</td>\n",
       "      <td>-0.900126</td>\n",
       "      <td>0.703020</td>\n",
       "    </tr>\n",
       "    <tr>\n",
       "      <th>9399</th>\n",
       "      <td>-0.996171</td>\n",
       "      <td>-0.085276</td>\n",
       "      <td>2.809451</td>\n",
       "      <td>0.181519</td>\n",
       "      <td>-1.733696</td>\n",
       "      <td>0.216634</td>\n",
       "      <td>-0.277864</td>\n",
       "      <td>0.703020</td>\n",
       "    </tr>\n",
       "    <tr>\n",
       "      <th>32130</th>\n",
       "      <td>1.936859</td>\n",
       "      <td>-0.085276</td>\n",
       "      <td>-0.143791</td>\n",
       "      <td>-1.627228</td>\n",
       "      <td>2.249634</td>\n",
       "      <td>-0.035058</td>\n",
       "      <td>-0.277864</td>\n",
       "      <td>-1.422436</td>\n",
       "    </tr>\n",
       "    <tr>\n",
       "      <th>19716</th>\n",
       "      <td>-0.042936</td>\n",
       "      <td>1.720541</td>\n",
       "      <td>-0.414371</td>\n",
       "      <td>-0.335266</td>\n",
       "      <td>-0.405919</td>\n",
       "      <td>0.720018</td>\n",
       "      <td>-0.900126</td>\n",
       "      <td>0.703020</td>\n",
       "    </tr>\n",
       "    <tr>\n",
       "      <th>...</th>\n",
       "      <td>...</td>\n",
       "      <td>...</td>\n",
       "      <td>...</td>\n",
       "      <td>...</td>\n",
       "      <td>...</td>\n",
       "      <td>...</td>\n",
       "      <td>...</td>\n",
       "      <td>...</td>\n",
       "    </tr>\n",
       "    <tr>\n",
       "      <th>20759</th>\n",
       "      <td>-0.776193</td>\n",
       "      <td>-0.085276</td>\n",
       "      <td>1.787499</td>\n",
       "      <td>-0.335266</td>\n",
       "      <td>0.921857</td>\n",
       "      <td>-1.545209</td>\n",
       "      <td>-0.277864</td>\n",
       "      <td>0.703020</td>\n",
       "    </tr>\n",
       "    <tr>\n",
       "      <th>1321</th>\n",
       "      <td>-1.362799</td>\n",
       "      <td>-0.085276</td>\n",
       "      <td>-0.709649</td>\n",
       "      <td>1.215089</td>\n",
       "      <td>0.921857</td>\n",
       "      <td>-1.545209</td>\n",
       "      <td>0.966661</td>\n",
       "      <td>0.703020</td>\n",
       "    </tr>\n",
       "    <tr>\n",
       "      <th>3529</th>\n",
       "      <td>0.616996</td>\n",
       "      <td>-0.085276</td>\n",
       "      <td>-0.705063</td>\n",
       "      <td>0.181519</td>\n",
       "      <td>-1.733696</td>\n",
       "      <td>-0.035058</td>\n",
       "      <td>-0.277864</td>\n",
       "      <td>-1.422436</td>\n",
       "    </tr>\n",
       "    <tr>\n",
       "      <th>20786</th>\n",
       "      <td>0.616996</td>\n",
       "      <td>2.623449</td>\n",
       "      <td>0.092190</td>\n",
       "      <td>-0.335266</td>\n",
       "      <td>-0.405919</td>\n",
       "      <td>-0.790133</td>\n",
       "      <td>-0.900126</td>\n",
       "      <td>0.703020</td>\n",
       "    </tr>\n",
       "    <tr>\n",
       "      <th>7669</th>\n",
       "      <td>0.616996</td>\n",
       "      <td>-0.085276</td>\n",
       "      <td>-1.505765</td>\n",
       "      <td>0.439911</td>\n",
       "      <td>-1.733696</td>\n",
       "      <td>0.720018</td>\n",
       "      <td>-0.277864</td>\n",
       "      <td>0.703020</td>\n",
       "    </tr>\n",
       "  </tbody>\n",
       "</table>\n",
       "<p>9762 rows × 8 columns</p>\n",
       "</div>"
      ],
      "text/plain": [
       "            age  workclass    fnlwgt  education  marital-status  occupation  \\\n",
       "12576  1.936859  -0.085276 -0.187285  -0.335266       -0.405919   -1.545209   \n",
       "11846  0.250367   2.623449  1.438656  -0.335266       -0.405919    0.720018   \n",
       "9399  -0.996171  -0.085276  2.809451   0.181519       -1.733696    0.216634   \n",
       "32130  1.936859  -0.085276 -0.143791  -1.627228        2.249634   -0.035058   \n",
       "19716 -0.042936   1.720541 -0.414371  -0.335266       -0.405919    0.720018   \n",
       "...         ...        ...       ...        ...             ...         ...   \n",
       "20759 -0.776193  -0.085276  1.787499  -0.335266        0.921857   -1.545209   \n",
       "1321  -1.362799  -0.085276 -0.709649   1.215089        0.921857   -1.545209   \n",
       "3529   0.616996  -0.085276 -0.705063   0.181519       -1.733696   -0.035058   \n",
       "20786  0.616996   2.623449  0.092190  -0.335266       -0.405919   -0.790133   \n",
       "7669   0.616996  -0.085276 -1.505765   0.439911       -1.733696    0.720018   \n",
       "\n",
       "       relationship       sex  \n",
       "12576     -0.900126  0.703020  \n",
       "11846     -0.900126  0.703020  \n",
       "9399      -0.277864  0.703020  \n",
       "32130     -0.277864 -1.422436  \n",
       "19716     -0.900126  0.703020  \n",
       "...             ...       ...  \n",
       "20759     -0.277864  0.703020  \n",
       "1321       0.966661  0.703020  \n",
       "3529      -0.277864 -1.422436  \n",
       "20786     -0.900126  0.703020  \n",
       "7669      -0.277864  0.703020  \n",
       "\n",
       "[9762 rows x 8 columns]"
      ]
     },
     "execution_count": 79,
     "metadata": {},
     "output_type": "execute_result"
    }
   ],
   "source": [
    "X_test"
   ]
  },
  {
   "cell_type": "code",
   "execution_count": 80,
   "id": "4aba30ff",
   "metadata": {},
   "outputs": [
    {
     "data": {
      "text/plain": [
       "20801    <=50K\n",
       "14894     >50K\n",
       "21107    <=50K\n",
       "21545    <=50K\n",
       "745       >50K\n",
       "         ...  \n",
       "32535    <=50K\n",
       "5194      >50K\n",
       "12176    <=50K\n",
       "235      <=50K\n",
       "29754    <=50K\n",
       "Name: annual_income, Length: 22775, dtype: object"
      ]
     },
     "execution_count": 80,
     "metadata": {},
     "output_type": "execute_result"
    }
   ],
   "source": [
    "y_train"
   ]
  },
  {
   "cell_type": "code",
   "execution_count": 81,
   "id": "c61afd30",
   "metadata": {},
   "outputs": [
    {
     "data": {
      "text/plain": [
       "12580    <=50K\n",
       "11850     >50K\n",
       "9402     <=50K\n",
       "32153    <=50K\n",
       "19725     >50K\n",
       "         ...  \n",
       "20768     >50K\n",
       "1321     <=50K\n",
       "3529     <=50K\n",
       "20795     >50K\n",
       "7671      >50K\n",
       "Name: annual_income, Length: 9762, dtype: object"
      ]
     },
     "execution_count": 81,
     "metadata": {},
     "output_type": "execute_result"
    }
   ],
   "source": [
    "y_test"
   ]
  },
  {
   "cell_type": "markdown",
   "id": "7195c11f",
   "metadata": {},
   "source": [
    "# BUILDING MODELS"
   ]
  },
  {
   "cell_type": "markdown",
   "id": "613f19f4",
   "metadata": {},
   "source": [
    "# LOGISTIC REGRESSION MODEL"
   ]
  },
  {
   "cell_type": "code",
   "execution_count": 82,
   "id": "eac434e2",
   "metadata": {},
   "outputs": [],
   "source": [
    "\n",
    "from sklearn.linear_model import LogisticRegression\n",
    "\n",
    "lo_model = LogisticRegression()"
   ]
  },
  {
   "cell_type": "code",
   "execution_count": 83,
   "id": "7594aacc",
   "metadata": {},
   "outputs": [
    {
     "data": {
      "text/html": [
       "<style>#sk-container-id-1 {color: black;background-color: white;}#sk-container-id-1 pre{padding: 0;}#sk-container-id-1 div.sk-toggleable {background-color: white;}#sk-container-id-1 label.sk-toggleable__label {cursor: pointer;display: block;width: 100%;margin-bottom: 0;padding: 0.3em;box-sizing: border-box;text-align: center;}#sk-container-id-1 label.sk-toggleable__label-arrow:before {content: \"▸\";float: left;margin-right: 0.25em;color: #696969;}#sk-container-id-1 label.sk-toggleable__label-arrow:hover:before {color: black;}#sk-container-id-1 div.sk-estimator:hover label.sk-toggleable__label-arrow:before {color: black;}#sk-container-id-1 div.sk-toggleable__content {max-height: 0;max-width: 0;overflow: hidden;text-align: left;background-color: #f0f8ff;}#sk-container-id-1 div.sk-toggleable__content pre {margin: 0.2em;color: black;border-radius: 0.25em;background-color: #f0f8ff;}#sk-container-id-1 input.sk-toggleable__control:checked~div.sk-toggleable__content {max-height: 200px;max-width: 100%;overflow: auto;}#sk-container-id-1 input.sk-toggleable__control:checked~label.sk-toggleable__label-arrow:before {content: \"▾\";}#sk-container-id-1 div.sk-estimator input.sk-toggleable__control:checked~label.sk-toggleable__label {background-color: #d4ebff;}#sk-container-id-1 div.sk-label input.sk-toggleable__control:checked~label.sk-toggleable__label {background-color: #d4ebff;}#sk-container-id-1 input.sk-hidden--visually {border: 0;clip: rect(1px 1px 1px 1px);clip: rect(1px, 1px, 1px, 1px);height: 1px;margin: -1px;overflow: hidden;padding: 0;position: absolute;width: 1px;}#sk-container-id-1 div.sk-estimator {font-family: monospace;background-color: #f0f8ff;border: 1px dotted black;border-radius: 0.25em;box-sizing: border-box;margin-bottom: 0.5em;}#sk-container-id-1 div.sk-estimator:hover {background-color: #d4ebff;}#sk-container-id-1 div.sk-parallel-item::after {content: \"\";width: 100%;border-bottom: 1px solid gray;flex-grow: 1;}#sk-container-id-1 div.sk-label:hover label.sk-toggleable__label {background-color: #d4ebff;}#sk-container-id-1 div.sk-serial::before {content: \"\";position: absolute;border-left: 1px solid gray;box-sizing: border-box;top: 0;bottom: 0;left: 50%;z-index: 0;}#sk-container-id-1 div.sk-serial {display: flex;flex-direction: column;align-items: center;background-color: white;padding-right: 0.2em;padding-left: 0.2em;position: relative;}#sk-container-id-1 div.sk-item {position: relative;z-index: 1;}#sk-container-id-1 div.sk-parallel {display: flex;align-items: stretch;justify-content: center;background-color: white;position: relative;}#sk-container-id-1 div.sk-item::before, #sk-container-id-1 div.sk-parallel-item::before {content: \"\";position: absolute;border-left: 1px solid gray;box-sizing: border-box;top: 0;bottom: 0;left: 50%;z-index: -1;}#sk-container-id-1 div.sk-parallel-item {display: flex;flex-direction: column;z-index: 1;position: relative;background-color: white;}#sk-container-id-1 div.sk-parallel-item:first-child::after {align-self: flex-end;width: 50%;}#sk-container-id-1 div.sk-parallel-item:last-child::after {align-self: flex-start;width: 50%;}#sk-container-id-1 div.sk-parallel-item:only-child::after {width: 0;}#sk-container-id-1 div.sk-dashed-wrapped {border: 1px dashed gray;margin: 0 0.4em 0.5em 0.4em;box-sizing: border-box;padding-bottom: 0.4em;background-color: white;}#sk-container-id-1 div.sk-label label {font-family: monospace;font-weight: bold;display: inline-block;line-height: 1.2em;}#sk-container-id-1 div.sk-label-container {text-align: center;}#sk-container-id-1 div.sk-container {/* jupyter's `normalize.less` sets `[hidden] { display: none; }` but bootstrap.min.css set `[hidden] { display: none !important; }` so we also need the `!important` here to be able to override the default hidden behavior on the sphinx rendered scikit-learn.org. See: https://github.com/scikit-learn/scikit-learn/issues/21755 */display: inline-block !important;position: relative;}#sk-container-id-1 div.sk-text-repr-fallback {display: none;}</style><div id=\"sk-container-id-1\" class=\"sk-top-container\"><div class=\"sk-text-repr-fallback\"><pre>LogisticRegression()</pre><b>In a Jupyter environment, please rerun this cell to show the HTML representation or trust the notebook. <br />On GitHub, the HTML representation is unable to render, please try loading this page with nbviewer.org.</b></div><div class=\"sk-container\" hidden><div class=\"sk-item\"><div class=\"sk-estimator sk-toggleable\"><input class=\"sk-toggleable__control sk-hidden--visually\" id=\"sk-estimator-id-1\" type=\"checkbox\" checked><label for=\"sk-estimator-id-1\" class=\"sk-toggleable__label sk-toggleable__label-arrow\">LogisticRegression</label><div class=\"sk-toggleable__content\"><pre>LogisticRegression()</pre></div></div></div></div></div>"
      ],
      "text/plain": [
       "LogisticRegression()"
      ]
     },
     "execution_count": 83,
     "metadata": {},
     "output_type": "execute_result"
    }
   ],
   "source": [
    "lo_model.fit(X_train,y_train)"
   ]
  },
  {
   "cell_type": "code",
   "execution_count": 84,
   "id": "1157a6a7",
   "metadata": {},
   "outputs": [],
   "source": [
    "lo_pred = lo_model.predict(X_test)"
   ]
  },
  {
   "cell_type": "code",
   "execution_count": 85,
   "id": "a10435b3",
   "metadata": {},
   "outputs": [],
   "source": [
    "from sklearn.metrics import *"
   ]
  },
  {
   "cell_type": "code",
   "execution_count": 86,
   "id": "bc676f40",
   "metadata": {},
   "outputs": [
    {
     "data": {
      "text/plain": [
       "0.7488219627125589"
      ]
     },
     "execution_count": 86,
     "metadata": {},
     "output_type": "execute_result"
    }
   ],
   "source": [
    "accuracy_score(y_test, lo_pred)"
   ]
  },
  {
   "cell_type": "code",
   "execution_count": 87,
   "id": "e96cd126",
   "metadata": {},
   "outputs": [
    {
     "data": {
      "text/plain": [
       "array([[7059,  415],\n",
       "       [2037,  251]])"
      ]
     },
     "execution_count": 87,
     "metadata": {},
     "output_type": "execute_result"
    }
   ],
   "source": [
    "confusion_matrix(y_test, lo_pred)"
   ]
  },
  {
   "cell_type": "code",
   "execution_count": 88,
   "id": "38a0d79a",
   "metadata": {},
   "outputs": [
    {
     "ename": "SyntaxError",
     "evalue": "invalid syntax (2409136869.py, line 1)",
     "output_type": "error",
     "traceback": [
      "\u001b[0;36m  Cell \u001b[0;32mIn[88], line 1\u001b[0;36m\u001b[0m\n\u001b[0;31m    BASIC LOGISTIC REGRESSION MODEL : ACCURACY SCORE : 74.8%\u001b[0m\n\u001b[0m          ^\u001b[0m\n\u001b[0;31mSyntaxError\u001b[0m\u001b[0;31m:\u001b[0m invalid syntax\n"
     ]
    }
   ],
   "source": [
    "BASIC LOGISTIC REGRESSION MODEL : ACCURACY SCORE : 74.8%"
   ]
  },
  {
   "cell_type": "markdown",
   "id": "ac3f23e5",
   "metadata": {},
   "source": [
    "# BUILDING LOGISTIC REGRESSION MODEL WITHOUT VIF"
   ]
  },
  {
   "cell_type": "code",
   "execution_count": null,
   "id": "9ce8187e",
   "metadata": {},
   "outputs": [],
   "source": [
    "\n",
    "X1 = df.iloc[:,:-1]\n",
    "y1 = df.iloc[:,-1]"
   ]
  },
  {
   "cell_type": "code",
   "execution_count": null,
   "id": "49d9a471",
   "metadata": {},
   "outputs": [],
   "source": [
    "X1, y1"
   ]
  },
  {
   "cell_type": "markdown",
   "id": "1f8c0496",
   "metadata": {},
   "source": [
    "# FEATURE SCALING"
   ]
  },
  {
   "cell_type": "code",
   "execution_count": null,
   "id": "cd6a3c94",
   "metadata": {},
   "outputs": [],
   "source": [
    "\n",
    "from sklearn.preprocessing import StandardScaler\n",
    "\n",
    "sc = StandardScaler()\n",
    "# Standardising the values\n",
    "\n",
    "X1 = pd.DataFrame(sc.fit_transform(X1), columns = X1.columns)"
   ]
  },
  {
   "cell_type": "code",
   "execution_count": null,
   "id": "7be37739",
   "metadata": {},
   "outputs": [],
   "source": [
    "X1"
   ]
  },
  {
   "cell_type": "code",
   "execution_count": null,
   "id": "9b65e7e3",
   "metadata": {},
   "outputs": [],
   "source": [
    "# SPLITTING THE DATA\n",
    "\n",
    "from sklearn.model_selection import train_test_split\n",
    "\n",
    "X1_train, X1_test, y1_train, y1_test = train_test_split(X1,y1, test_size = 0.3, random_state = 1)"
   ]
  },
  {
   "cell_type": "code",
   "execution_count": null,
   "id": "8f685a28",
   "metadata": {},
   "outputs": [],
   "source": [
    "# BULIDING LOGISTIC REGRESSION MODEL"
   ]
  },
  {
   "cell_type": "code",
   "execution_count": null,
   "id": "479c79bc",
   "metadata": {},
   "outputs": [],
   "source": [
    "lo_model1 = LogisticRegression()"
   ]
  },
  {
   "cell_type": "code",
   "execution_count": null,
   "id": "1e219f01",
   "metadata": {},
   "outputs": [],
   "source": [
    "lo_model1.fit(X1_train,y1_train)"
   ]
  },
  {
   "cell_type": "code",
   "execution_count": null,
   "id": "4da70062",
   "metadata": {},
   "outputs": [],
   "source": [
    "lo_pred1 = lo_model1.predict(X1_test)"
   ]
  },
  {
   "cell_type": "code",
   "execution_count": null,
   "id": "1a473cb8",
   "metadata": {},
   "outputs": [],
   "source": [
    "accuracy_score(y1_test, lo_pred1)"
   ]
  },
  {
   "cell_type": "code",
   "execution_count": null,
   "id": "8c2143a6",
   "metadata": {},
   "outputs": [],
   "source": [
    "confusion_matrix(y1_test, lo_pred1)"
   ]
  },
  {
   "cell_type": "markdown",
   "id": "b877b62e",
   "metadata": {},
   "source": [
    "# INFERENCE"
   ]
  },
  {
   "cell_type": "code",
   "execution_count": null,
   "id": "285c95e5",
   "metadata": {},
   "outputs": [],
   "source": [
    "# The model is performing better when the features arent selected but using the whole dataframe and not removing any outliers\n",
    "# Will be further testing the with other classification models"
   ]
  },
  {
   "cell_type": "markdown",
   "id": "39e12517",
   "metadata": {},
   "source": [
    "# DECISION TREE MODEL"
   ]
  },
  {
   "cell_type": "code",
   "execution_count": null,
   "id": "c73df2b9",
   "metadata": {},
   "outputs": [],
   "source": [
    "from sklearn.tree import DecisionTreeClassifier\n",
    "dt_model = DecisionTreeClassifier()\n",
    "dt_model.fit(X1_train, y1_train)"
   ]
  },
  {
   "cell_type": "code",
   "execution_count": null,
   "id": "fd53625b",
   "metadata": {},
   "outputs": [],
   "source": [
    "dt_pred = dt_model.predict(X1_test)"
   ]
  },
  {
   "cell_type": "code",
   "execution_count": null,
   "id": "a9d9ee5b",
   "metadata": {},
   "outputs": [],
   "source": [
    "accuracy_score(y1_test, dt_pred)"
   ]
  },
  {
   "cell_type": "code",
   "execution_count": null,
   "id": "dda0d4ca",
   "metadata": {},
   "outputs": [],
   "source": [
    "confusion_matrix(y1_test, dt_pred)"
   ]
  },
  {
   "cell_type": "markdown",
   "id": "c83321c2",
   "metadata": {},
   "source": [
    "# INFERENCE"
   ]
  },
  {
   "cell_type": "code",
   "execution_count": null,
   "id": "1483475c",
   "metadata": {},
   "outputs": [],
   "source": [
    "# Decision tree model performance is lower than logistic regression"
   ]
  },
  {
   "cell_type": "markdown",
   "id": "8642534e",
   "metadata": {},
   "source": [
    "# RANDOM FOREST MODEL"
   ]
  },
  {
   "cell_type": "code",
   "execution_count": null,
   "id": "90cf707e",
   "metadata": {},
   "outputs": [],
   "source": [
    "from sklearn.ensemble import RandomForestClassifier\n",
    "rf_model = RandomForestClassifier()\n",
    "rf_model.fit(X1_train, y1_train)"
   ]
  },
  {
   "cell_type": "code",
   "execution_count": null,
   "id": "f8c0d76e",
   "metadata": {},
   "outputs": [],
   "source": [
    "rf_pred = rf_model.predict(X1_test)"
   ]
  },
  {
   "cell_type": "code",
   "execution_count": null,
   "id": "01820d78",
   "metadata": {},
   "outputs": [],
   "source": [
    "accuracy_score(y1_test, rf_pred)"
   ]
  },
  {
   "cell_type": "code",
   "execution_count": null,
   "id": "748ea75a",
   "metadata": {},
   "outputs": [],
   "source": [
    "confusion_matrix(y1_test, rf_pred)"
   ]
  },
  {
   "cell_type": "markdown",
   "id": "e7d47269",
   "metadata": {},
   "source": [
    "# INFERENCE"
   ]
  },
  {
   "cell_type": "code",
   "execution_count": null,
   "id": "b03d2936",
   "metadata": {},
   "outputs": [],
   "source": [
    "# 1. Amongst the three models, random forest classifier seems to be the best performing model \n",
    "# 2. It gives an accuracy score of 82.7% while logistic regression had an accuracy score of 80.7% and \n",
    "# decision tree had a score of 77.5%\n",
    "# 3. These models seem to be performing better than the basic logistic regression model after getting rid of multicollinearity\n",
    "# 4. Recommended to not perform the multicollinearity or the outlier removal "
   ]
  },
  {
   "cell_type": "code",
   "execution_count": null,
   "id": "ff9a491e",
   "metadata": {},
   "outputs": [],
   "source": [
    "# RUNNING PYCARET ON GOOGLE COLLAB TO CHECK FOR THE BEST MODEL "
   ]
  },
  {
   "cell_type": "code",
   "execution_count": null,
   "id": "3f0d2829",
   "metadata": {},
   "outputs": [],
   "source": [
    "# the results came out to be XGboost for this classification\n",
    "\n",
    "# Running the basic XGboost model increased the accuracy from "
   ]
  },
  {
   "cell_type": "code",
   "execution_count": null,
   "id": "943c7f63",
   "metadata": {},
   "outputs": [],
   "source": [
    "import xgboost as xgb"
   ]
  },
  {
   "cell_type": "code",
   "execution_count": null,
   "id": "dde0ab4d",
   "metadata": {},
   "outputs": [],
   "source": [
    "# Using XGBOOST as the best model for the classification problem"
   ]
  },
  {
   "cell_type": "code",
   "execution_count": null,
   "id": "fea2750c",
   "metadata": {},
   "outputs": [],
   "source": [
    "# Creating a copy of the dataframe\n",
    "\n",
    "df3 = df.copy()"
   ]
  },
  {
   "cell_type": "code",
   "execution_count": null,
   "id": "2af475db",
   "metadata": {},
   "outputs": [],
   "source": [
    "df3"
   ]
  },
  {
   "cell_type": "code",
   "execution_count": null,
   "id": "5a1e6d0a",
   "metadata": {},
   "outputs": [],
   "source": [
    "# Mapping the target categories into numerical values for the XGBoost algorithm to use \n",
    "\n",
    "\n",
    "df3['annual_income']=df3['annual_income'].map({'<=50K': 0, '>50K': 1})"
   ]
  },
  {
   "cell_type": "code",
   "execution_count": null,
   "id": "fbd06952",
   "metadata": {},
   "outputs": [],
   "source": [
    "# Splicing the dataframe in X and y variables\n",
    "\n",
    "X3 = df3.iloc[:,:-1]\n",
    "y3 = df3.iloc[:,-1]"
   ]
  },
  {
   "cell_type": "code",
   "execution_count": null,
   "id": "072147b5",
   "metadata": {},
   "outputs": [],
   "source": [
    "# SPLITTING THE DATASET INTO TRAIN TEST AND SPLIT\n",
    "\n",
    "x3_train, x3_test, y3_train, y3_test = train_test_split(X3, y3, test_size=0.3, random_state=65)"
   ]
  },
  {
   "cell_type": "code",
   "execution_count": null,
   "id": "60ce8f22",
   "metadata": {},
   "outputs": [],
   "source": [
    "# Optimising th learning rate for the XGboost\n",
    "\n",
    "\n",
    "# XGBoost (different learning rate)\n",
    "learning_rate_range = np.arange(0.01, 1, 0.05)\n",
    "test_XG = [] \n",
    "train_XG = []\n",
    "for lr in learning_rate_range:\n",
    "    xgb_classifier = xgb.XGBClassifier(eta = lr)\n",
    "    xgb_classifier.fit(x3_train, y3_train)\n",
    "    train_XG.append(xgb_classifier.score(x3_train, y3_train))\n",
    "    test_XG.append(xgb_classifier.score(x3_test, y3_test))"
   ]
  },
  {
   "cell_type": "code",
   "execution_count": null,
   "id": "ed0fbd79",
   "metadata": {},
   "outputs": [],
   "source": [
    "# Then, we can draw a line plot to see how XGBoost performs."
   ]
  },
  {
   "cell_type": "code",
   "execution_count": null,
   "id": "a6e2db4f",
   "metadata": {},
   "outputs": [],
   "source": [
    "# Plotting learning rate and accuracy score to determine the optimal learning rate\n",
    "\n",
    "\n",
    "fig = plt.figure(figsize=(10, 7))\n",
    "plt.plot(learning_rate_range, train_XG, c='orange', label='Train')\n",
    "plt.plot(learning_rate_range, test_XG, c='m', label='Test')\n",
    "plt.xlabel('Learning rate')\n",
    "plt.xticks(learning_rate_range)\n",
    "plt.ylabel('Accuracy score')\n",
    "plt.ylim(0.6, 1)\n",
    "plt.legend(prop={'size': 12}, loc=3)\n",
    "plt.title('Accuracy score vs. Learning rate of XGBoost', size=14)\n",
    "plt.show()"
   ]
  },
  {
   "cell_type": "code",
   "execution_count": null,
   "id": "55675379",
   "metadata": {},
   "outputs": [],
   "source": [
    "# IMPORTING XGBOOST CLASSIFIER AND USING THE OPTIMAL LEARNING RATE\n",
    "\n",
    "from xgboost import XGBClassifier\n",
    "\n",
    "xg_model = XGBClassifier(use_label_encoder=False, eval_metric='mlogloss', learning_rate = 0.06)\n",
    "\n",
    "\n",
    "# LABEL ENCODER IS FALSE AS THE FEATURES ARE ALREADY ENCODED"
   ]
  },
  {
   "cell_type": "code",
   "execution_count": null,
   "id": "7d7ed36c",
   "metadata": {},
   "outputs": [],
   "source": [
    "# TRAINING THE MODEL\n",
    "\n",
    "xg_model.fit(x3_train, y3_train)"
   ]
  },
  {
   "cell_type": "code",
   "execution_count": null,
   "id": "4bfe678d",
   "metadata": {},
   "outputs": [],
   "source": [
    "# TESTING THE MODEL\n",
    "\n",
    "xg_pred = xg_model.predict(x3_test)"
   ]
  },
  {
   "cell_type": "code",
   "execution_count": null,
   "id": "8b16deda",
   "metadata": {},
   "outputs": [],
   "source": [
    "xg_pred"
   ]
  },
  {
   "cell_type": "code",
   "execution_count": null,
   "id": "982ebc73",
   "metadata": {},
   "outputs": [],
   "source": [
    "# CHECKING FOR ACCURACY OF THE MODEL\n",
    "\n",
    "accuracy = accuracy_score(y3_test, xg_pred)\n",
    "accuracy"
   ]
  },
  {
   "cell_type": "code",
   "execution_count": null,
   "id": "ceee3523",
   "metadata": {},
   "outputs": [],
   "source": []
  },
  {
   "cell_type": "code",
   "execution_count": null,
   "id": "ccacc69b",
   "metadata": {},
   "outputs": [],
   "source": []
  },
  {
   "cell_type": "code",
   "execution_count": null,
   "id": "4b28cc62",
   "metadata": {},
   "outputs": [],
   "source": []
  }
 ],
 "metadata": {
  "kernelspec": {
   "display_name": "Python 3 (ipykernel)",
   "language": "python",
   "name": "python3"
  },
  "language_info": {
   "codemirror_mode": {
    "name": "ipython",
    "version": 3
   },
   "file_extension": ".py",
   "mimetype": "text/x-python",
   "name": "python",
   "nbconvert_exporter": "python",
   "pygments_lexer": "ipython3",
   "version": "3.10.9"
  },
  "varInspector": {
   "cols": {
    "lenName": 16,
    "lenType": 16,
    "lenVar": 40
   },
   "kernels_config": {
    "python": {
     "delete_cmd_postfix": "",
     "delete_cmd_prefix": "del ",
     "library": "var_list.py",
     "varRefreshCmd": "print(var_dic_list())"
    },
    "r": {
     "delete_cmd_postfix": ") ",
     "delete_cmd_prefix": "rm(",
     "library": "var_list.r",
     "varRefreshCmd": "cat(var_dic_list()) "
    }
   },
   "types_to_exclude": [
    "module",
    "function",
    "builtin_function_or_method",
    "instance",
    "_Feature"
   ],
   "window_display": false
  }
 },
 "nbformat": 4,
 "nbformat_minor": 5
}
